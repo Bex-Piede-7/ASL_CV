{
 "cells": [
  {
   "cell_type": "code",
   "execution_count": 1,
   "id": "3d732466-4549-46b3-b006-26de299b5437",
   "metadata": {},
   "outputs": [],
   "source": [
    "# Imports\n",
    "import numpy as np"
   ]
  },
  {
   "cell_type": "code",
   "execution_count": 77,
   "id": "7604d9d8-908d-4d01-8a36-7f167468dfe7",
   "metadata": {},
   "outputs": [
    {
     "name": "stdout",
     "output_type": "stream",
     "text": [
      "[[128 128 128 128 128 128 128 128 128 128]\n",
      " [128 128 128 128 128 128 128 128 128 128]\n",
      " [128 128 128 128 128 128 128 128 128 128]\n",
      " [128 128 128 128 128 128 128 128 128 128]\n",
      " [128 128 128 128 128 128 128 128 128 128]\n",
      " [128 128 128 128 128 128 128 128 128 128]\n",
      " [128 128 128 128 128 128 128 128 128 128]\n",
      " [128 128 128 128 128 128 128 128 128 128]\n",
      " [128 128 128 128 128 128 128 128 128 128]\n",
      " [128 128 128 128 128 128 128 128 128 128]]\n",
      "\n",
      "Image Dimensions:  (10, 10)\n",
      "Data Type:  int32\n"
     ]
    }
   ],
   "source": [
    "                                        # GRAYSCALE #\n",
    "# Initialization\n",
    "image_size_2D = (10, 10)\n",
    "\n",
    "grayscale_image = np.full(image_size_2D, 128)\n",
    "#grayscale_image = np.random.randint(0, 256, size=image_size_2D, dtype=np.uint8)\n",
    "\n",
    "print(grayscale_image)\n",
    "print()\n",
    "print(\"Image Dimensions: \", grayscale_image.shape)\n",
    "print(\"Data Type: \", grayscale_image.dtype)"
   ]
  },
  {
   "cell_type": "code",
   "execution_count": 79,
   "id": "2f447831-ee49-4e09-805d-86cce55230d1",
   "metadata": {},
   "outputs": [
    {
     "name": "stdout",
     "output_type": "stream",
     "text": [
      "[[  0   0   0   0   0   0   0   0   0   0]\n",
      " [  0 128 128 128 128 128 128 128 128   0]\n",
      " [  0 128 128 128 128 128 128 128 128   0]\n",
      " [  0 128 128 255 255 255 255 128 128   0]\n",
      " [  0 128 128 255 255 255 255 128 128   0]\n",
      " [  0 128 128 255 255 255 255 128 128   0]\n",
      " [  0 128 128 255 255 255 255 128 128   0]\n",
      " [  0 128 128 128 128 128 128 128 128   0]\n",
      " [  0 128 128 128 128 128 128 128 128   0]\n",
      " [  0   0   0   0   0   0   0   0   0   0]]\n"
     ]
    }
   ],
   "source": [
    "                                        # Manual Coloring #\n",
    "\n",
    "# Draw a white square\n",
    "\n",
    "white_row_start = 3\n",
    "white_row_end = 7\n",
    "white_col_start = 3\n",
    "white_col_end = 7\n",
    "\n",
    "grayscale_image[white_row_start:white_row_end, white_col_start:white_col_end] = 255\n",
    "\n",
    "# Draw a black outline\n",
    "grayscale_image[:1, :] = 0\n",
    "grayscale_image[9:, :] = 0\n",
    "grayscale_image[:, :1] = 0\n",
    "grayscale_image[:, 9:] = 0\n",
    "\n",
    "print(grayscale_image)\n"
   ]
  },
  {
   "cell_type": "code",
   "execution_count": 173,
   "id": "48fc8f70-ce59-4cef-a98d-fda0f4cd5b28",
   "metadata": {},
   "outputs": [
    {
     "name": "stdout",
     "output_type": "stream",
     "text": [
      "Original:\n",
      "[[  0   0   0   0   0   0   0   0   0   0]\n",
      " [  0 128 128 128 128 128 128 128 128   0]\n",
      " [  0 128 128 128 128 128 128 128 128   0]\n",
      " [  0 128 128 255 255 255 255 128 128   0]\n",
      " [  0 128 128 255 255 255 255 128 128   0]\n",
      " [  0 128 128 255 255 255 255 128 128   0]\n",
      " [  0 128 128 255 255 255 255 128 128   0]\n",
      " [  0 128 128 128 128 128 128 128 128   0]\n",
      " [  0 128 128 128 128 128 128 128 128   0]\n",
      " [  0   0   0   0   0   0   0   0   0   0]]\n",
      "\n",
      "\n",
      "Brightened:\n",
      "[[ 30  30  30  30  30  30  30  30  30  30]\n",
      " [ 30 158 158 158 158 158 158 158 158  30]\n",
      " [ 30 158 158 158 158 158 158 158 158  30]\n",
      " [ 30 158 158 255 255 255 255 158 158  30]\n",
      " [ 30 158 158 255 255 255 255 158 158  30]\n",
      " [ 30 158 158 255 255 255 255 158 158  30]\n",
      " [ 30 158 158 255 255 255 255 158 158  30]\n",
      " [ 30 158 158 158 158 158 158 158 158  30]\n",
      " [ 30 158 158 158 158 158 158 158 158  30]\n",
      " [ 30  30  30  30  30  30  30  30  30  30]]\n",
      "\n",
      "\n",
      "Inverted:\n",
      "[[255 255 255 255 255 255 255 255 255 255]\n",
      " [255 127 127 127 127 127 127 127 127 255]\n",
      " [255 127 127 127 127 127 127 127 127 255]\n",
      " [255 127 127   0   0   0   0 127 127 255]\n",
      " [255 127 127   0   0   0   0 127 127 255]\n",
      " [255 127 127   0   0   0   0 127 127 255]\n",
      " [255 127 127   0   0   0   0 127 127 255]\n",
      " [255 127 127 127 127 127 127 127 127 255]\n",
      " [255 127 127 127 127 127 127 127 127 255]\n",
      " [255 255 255 255 255 255 255 255 255 255]]\n"
     ]
    }
   ],
   "source": [
    "                                    # Simulating Image Filters #\n",
    "COPY_image = np.copy(grayscale_image)\n",
    "\n",
    "print(\"Original:\")\n",
    "print(grayscale_image)\n",
    "print()\n",
    "print()\n",
    "\n",
    "# Brightness Adjustments\n",
    "light = 30\n",
    "brightened_image = np.clip(COPY_image + light, a_min=0, a_max=255)\n",
    "print(\"Brightened:\")\n",
    "print(brightened_image)\n",
    "print()\n",
    "print()\n",
    "\n",
    "# Invert Colors\n",
    "inverted_image = 255 - COPY_image\n",
    "print(\"Inverted:\")\n",
    "print(inverted_image)"
   ]
  },
  {
   "cell_type": "code",
   "execution_count": 165,
   "id": "e8e1674d-d304-4eb8-8ad8-d41315d156e6",
   "metadata": {},
   "outputs": [
    {
     "name": "stdout",
     "output_type": "stream",
     "text": [
      "[[[0 0 0]\n",
      "  [0 0 0]\n",
      "  [0 0 0]\n",
      "  [0 0 0]\n",
      "  [0 0 0]]\n",
      "\n",
      " [[0 0 0]\n",
      "  [0 0 0]\n",
      "  [0 0 0]\n",
      "  [0 0 0]\n",
      "  [0 0 0]]\n",
      "\n",
      " [[0 0 0]\n",
      "  [0 0 0]\n",
      "  [0 0 0]\n",
      "  [0 0 0]\n",
      "  [0 0 0]]\n",
      "\n",
      " [[0 0 0]\n",
      "  [0 0 0]\n",
      "  [0 0 0]\n",
      "  [0 0 0]\n",
      "  [0 0 0]]\n",
      "\n",
      " [[0 0 0]\n",
      "  [0 0 0]\n",
      "  [0 0 0]\n",
      "  [0 0 0]\n",
      "  [0 0 0]]]\n"
     ]
    }
   ],
   "source": [
    "                                        # COLOR - RGB #\n",
    "#Initialization\n",
    "image_size_3D = (5, 5, 3)           # 5x5 image, 3 for the RGB\n",
    "\n",
    "color_image = np.full(image_size_3D, 0)  # All Black\n",
    "#color_image = np.random.randint(0, 256, size=image_size_3D, dtype=np.uint8)\n",
    "\n",
    "print(color_image)\n"
   ]
  },
  {
   "cell_type": "code",
   "execution_count": 167,
   "id": "352290fb-dc3b-4d34-a412-f4532b111720",
   "metadata": {},
   "outputs": [
    {
     "name": "stdout",
     "output_type": "stream",
     "text": [
      "[[[  0   0 255]\n",
      "  [  0   0   0]\n",
      "  [  0   0   0]\n",
      "  [  0   0   0]\n",
      "  [  0   0   0]]\n",
      "\n",
      " [[  0   0   0]\n",
      "  [  0   0 255]\n",
      "  [  0   0   0]\n",
      "  [  0   0   0]\n",
      "  [  0   0   0]]\n",
      "\n",
      " [[  0   0   0]\n",
      "  [  0   0   0]\n",
      "  [  0   0 255]\n",
      "  [255   0   0]\n",
      "  [  0   0   0]]\n",
      "\n",
      " [[  0   0   0]\n",
      "  [  0   0   0]\n",
      "  [255   0   0]\n",
      "  [  0   0 255]\n",
      "  [  0   0   0]]\n",
      "\n",
      " [[  0   0   0]\n",
      "  [  0   0   0]\n",
      "  [  0   0   0]\n",
      "  [  0   0   0]\n",
      "  [  0   0 255]]]\n"
     ]
    }
   ],
   "source": [
    "                                    # Manual Coloring #\n",
    "# Draw a red 2x2 square\n",
    "red_row_start = 2\n",
    "red_row_end = 4\n",
    "red_col_start = 2\n",
    "red_col_end = 4\n",
    "\n",
    "color_image[red_row_start:red_row_end, red_col_start:red_col_end, 0] = 255\n",
    "\n",
    "# Draw a gree diagonal line\n",
    "for i in range(0,5):\n",
    "    color_image[i, i] = (0, 0, 255)\n",
    "\n",
    "print(color_image)"
   ]
  },
  {
   "cell_type": "code",
   "execution_count": 169,
   "id": "46d1604f-a0b1-4276-a14d-db157cf4ff14",
   "metadata": {},
   "outputs": [
    {
     "name": "stdout",
     "output_type": "stream",
     "text": [
      "Array:\n",
      "[[72 18  4]\n",
      " [21 22 89]\n",
      " [ 9 93 99]]\n",
      "\n",
      "Summed Array:\n",
      "[[ 82  38  34]\n",
      " [ 31  42 119]\n",
      " [ 19 113 129]]\n"
     ]
    }
   ],
   "source": [
    "                            # Broadcasting (Applying operationa across dimensions) #\n",
    "# Create a 3x3 array of random ints\n",
    "array = np.random.randint(0, 100, size=(3, 3))\n",
    "additive = [10, 20, 30]\n",
    "\n",
    "sum_array = array + additive\n",
    "\n",
    "print(\"Array:\")\n",
    "print(array)\n",
    "print()\n",
    "print(\"Summed Array:\")\n",
    "print(sum_array)"
   ]
  },
  {
   "cell_type": "code",
   "execution_count": null,
   "id": "eed0616a-5ea6-4553-a1ab-42ebd4d4f681",
   "metadata": {},
   "outputs": [],
   "source": []
  }
 ],
 "metadata": {
  "kernelspec": {
   "display_name": "Python 3 (ipykernel)",
   "language": "python",
   "name": "python3"
  },
  "language_info": {
   "codemirror_mode": {
    "name": "ipython",
    "version": 3
   },
   "file_extension": ".py",
   "mimetype": "text/x-python",
   "name": "python",
   "nbconvert_exporter": "python",
   "pygments_lexer": "ipython3",
   "version": "3.12.4"
  }
 },
 "nbformat": 4,
 "nbformat_minor": 5
}
