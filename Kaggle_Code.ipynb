{
  "metadata": {
    "kernelspec": {
      "language": "python",
      "display_name": "Python 3",
      "name": "python3"
    },
    "language_info": {
      "pygments_lexer": "ipython3",
      "nbconvert_exporter": "python",
      "version": "3.6.4",
      "file_extension": ".py",
      "codemirror_mode": {
        "name": "ipython",
        "version": 3
      },
      "name": "python",
      "mimetype": "text/x-python"
    },
    "colab": {
      "name": "ASL Fingerspelling Recognition w/ TensorFlow",
      "provenance": []
    }
  },
  "nbformat_minor": 0,
  "nbformat": 4,
  "cells": [
    {
      "cell_type": "markdown",
      "source": [
        "# Google - American Sign Language Fingerspelling Recognition with TensorFlow\n",
        "\n",
        "This notebook walks you through how to train a Transformer model using TensorFlow on the Google - American Sign Language Fingerspelling Recognition dataset made available for this competition.\n",
        "\n",
        "The objective of the model is to predict and translate American Sign Language (ASL) fingerspelling from a set of video frames into text(`phrase`).\n",
        "\n",
        "In this notebook you will learn:\n",
        "\n",
        "- How to load the data\n",
        "- Convert the data to tfrecords to make it faster to re-traing the model\n",
        "- Train a transformer models on the data\n",
        "- Convert the model to TFLite\n",
        "- Create a submission"
      ],
      "metadata": {
        "id": "-K9j6LQdJLk5"
      }
    },
    {
      "cell_type": "markdown",
      "source": [
        "# Installation\n",
        "\n",
        "Specifically for this competition, you'll need the mediapipe library to work on the data and visualize it"
      ],
      "metadata": {
        "id": "KOoCCQ3EJLk5"
      }
    },
    {
      "cell_type": "code",
      "source": [
        "!pip install mediapipe"
      ],
      "metadata": {
        "execution": {
          "iopub.status.busy": "2023-07-04T12:18:18.349536Z",
          "iopub.execute_input": "2023-07-04T12:18:18.349962Z",
          "iopub.status.idle": "2023-07-04T12:18:33.892816Z",
          "shell.execute_reply.started": "2023-07-04T12:18:18.349935Z",
          "shell.execute_reply": "2023-07-04T12:18:33.891627Z"
        },
        "trusted": true,
        "id": "gB0woe1sJLk6"
      },
      "execution_count": null,
      "outputs": []
    },
    {
      "cell_type": "markdown",
      "source": [
        "# Import the libraries"
      ],
      "metadata": {
        "id": "Wcgd9nDJJLk6"
      }
    },
    {
      "cell_type": "code",
      "source": [
        "import os\n",
        "import shutil\n",
        "import numpy as np\n",
        "import pandas as pd\n",
        "import pyarrow.parquet as pq\n",
        "import tensorflow as tf\n",
        "import json\n",
        "import mediapipe\n",
        "import matplotlib\n",
        "import matplotlib.pyplot as plt\n",
        "import random\n",
        "\n",
        "from skimage.transform import resize\n",
        "from mediapipe.framework.formats import landmark_pb2\n",
        "from tensorflow import keras\n",
        "from tensorflow.keras import layers\n",
        "from tqdm.notebook import tqdm\n",
        "from matplotlib import animation, rc"
      ],
      "metadata": {
        "_uuid": "8f2839f25d086af736a60e9eeb907d3b93b6e0e5",
        "_cell_guid": "b1076dfc-b9ad-4769-8c92-a6c4dae69d19",
        "execution": {
          "iopub.status.busy": "2023-07-04T12:18:33.895159Z",
          "iopub.execute_input": "2023-07-04T12:18:33.896658Z",
          "iopub.status.idle": "2023-07-04T12:18:42.472229Z",
          "shell.execute_reply.started": "2023-07-04T12:18:33.896628Z",
          "shell.execute_reply": "2023-07-04T12:18:42.471283Z"
        },
        "trusted": true,
        "id": "kByNm9wEJLk6"
      },
      "execution_count": null,
      "outputs": []
    },
    {
      "cell_type": "code",
      "source": [
        "print(\"TensorFlow v\" + tf.__version__)\n",
        "print(\"Mediapipe v\" + mediapipe.__version__)"
      ],
      "metadata": {
        "execution": {
          "iopub.status.busy": "2023-07-04T12:18:42.473511Z",
          "iopub.execute_input": "2023-07-04T12:18:42.474228Z",
          "iopub.status.idle": "2023-07-04T12:18:42.483139Z",
          "shell.execute_reply.started": "2023-07-04T12:18:42.474194Z",
          "shell.execute_reply": "2023-07-04T12:18:42.481321Z"
        },
        "trusted": true,
        "id": "7vsYxhFTJLk6"
      },
      "execution_count": null,
      "outputs": []
    },
    {
      "cell_type": "markdown",
      "source": [
        "# Load the Dataset"
      ],
      "metadata": {
        "id": "ENiaWZ3sJLk6"
      }
    },
    {
      "cell_type": "code",
      "source": [
        "dataset_df = pd.read_csv('/kaggle/input/asl-fingerspelling/train.csv')\n",
        "print(\"Full train dataset shape is {}\".format(dataset_df.shape))"
      ],
      "metadata": {
        "execution": {
          "iopub.status.busy": "2023-07-04T12:18:42.486409Z",
          "iopub.execute_input": "2023-07-04T12:18:42.486741Z",
          "iopub.status.idle": "2023-07-04T12:18:42.632541Z",
          "shell.execute_reply.started": "2023-07-04T12:18:42.486718Z",
          "shell.execute_reply": "2023-07-04T12:18:42.631559Z"
        },
        "trusted": true,
        "id": "In1ShcxDJLk7"
      },
      "execution_count": null,
      "outputs": []
    },
    {
      "cell_type": "markdown",
      "source": [
        "The data is composed of 5 columns and 67208 entries. We can see all 5 dimensions of our dataset by printing out the first 5 entries using the following code:"
      ],
      "metadata": {
        "id": "U8zns_5XJLk7"
      }
    },
    {
      "cell_type": "code",
      "source": [
        "dataset_df.head()"
      ],
      "metadata": {
        "execution": {
          "iopub.status.busy": "2023-07-04T12:18:42.63417Z",
          "iopub.execute_input": "2023-07-04T12:18:42.634843Z",
          "iopub.status.idle": "2023-07-04T12:18:42.65139Z",
          "shell.execute_reply.started": "2023-07-04T12:18:42.634808Z",
          "shell.execute_reply": "2023-07-04T12:18:42.6504Z"
        },
        "trusted": true,
        "id": "np2OsGEcJLk7"
      },
      "execution_count": null,
      "outputs": []
    },
    {
      "cell_type": "markdown",
      "source": [
        "# Quick basic dataset exploration\n",
        "\n",
        "Each entry in **train.csv** contains a `phrase`, its `sequence_id`, `path` and `file_id`. The `file_id` indicates the file that holds the **_landmarks_** data for that particular `phrase` and `sequence_id` is the unique index of the landmark sequence within the landmarks data file.\n",
        "\n",
        "The following diagram shows an example of how files are connected.\n",
        "\n",
        "![files2.png](attachment:751e38db-4def-4177-bf5b-27071bb1b3e3.png)"
      ],
      "metadata": {
        "id": "K4TO4_W8JLk7"
      }
    },
    {
      "cell_type": "markdown",
      "source": [
        "As an example, let us examine the landmarks file for the first row of`train.csv`."
      ],
      "metadata": {
        "id": "jCG_D5m9JLk7"
      }
    },
    {
      "cell_type": "code",
      "source": [
        "# Fetch sequence_id, file_id, phrase from first row\n",
        "sequence_id, file_id, phrase = dataset_df.iloc[0][['sequence_id', 'file_id', 'phrase']]\n",
        "print(f\"sequence_id: {sequence_id}, file_id: {file_id}, phrase: {phrase}\")"
      ],
      "metadata": {
        "execution": {
          "iopub.status.busy": "2023-07-04T12:18:42.652867Z",
          "iopub.execute_input": "2023-07-04T12:18:42.65321Z",
          "iopub.status.idle": "2023-07-04T12:18:42.661988Z",
          "shell.execute_reply.started": "2023-07-04T12:18:42.65318Z",
          "shell.execute_reply": "2023-07-04T12:18:42.660946Z"
        },
        "trusted": true,
        "id": "v7gT4SQNJLk7"
      },
      "execution_count": null,
      "outputs": []
    },
    {
      "cell_type": "markdown",
      "source": [
        "Now, let us open the parquet file and fetch the data for the particular `sequence_id`."
      ],
      "metadata": {
        "id": "vcI4iOklJLk7"
      }
    },
    {
      "cell_type": "code",
      "source": [
        "# Fetch data from parquet file\n",
        "sample_sequence_df = pq.read_table(f\"/kaggle/input/asl-fingerspelling/train_landmarks/{str(file_id)}.parquet\",\n",
        "    filters=[[('sequence_id', '=', sequence_id)],]).to_pandas()\n",
        "print(\"Full sequence dataset shape is {}\".format(sample_sequence_df.shape))"
      ],
      "metadata": {
        "execution": {
          "iopub.status.busy": "2023-07-04T12:18:42.66368Z",
          "iopub.execute_input": "2023-07-04T12:18:42.664155Z",
          "iopub.status.idle": "2023-07-04T12:18:47.297351Z",
          "shell.execute_reply.started": "2023-07-04T12:18:42.664124Z",
          "shell.execute_reply": "2023-07-04T12:18:47.296433Z"
        },
        "trusted": true,
        "id": "G21p8qbyJLk7"
      },
      "execution_count": null,
      "outputs": []
    },
    {
      "cell_type": "markdown",
      "source": [
        "This particular phrase(***3 creekhouse***) contains 123 entries (or frames) and 1630 columns including 1628 landmark coordinates. Let us print the first 5 entries."
      ],
      "metadata": {
        "id": "NocqGcDWJLk7"
      }
    },
    {
      "cell_type": "code",
      "source": [
        "sample_sequence_df.head()"
      ],
      "metadata": {
        "execution": {
          "iopub.status.busy": "2023-07-04T12:18:47.298547Z",
          "iopub.execute_input": "2023-07-04T12:18:47.29887Z",
          "iopub.status.idle": "2023-07-04T12:18:47.334848Z",
          "shell.execute_reply.started": "2023-07-04T12:18:47.298836Z",
          "shell.execute_reply": "2023-07-04T12:18:47.334217Z"
        },
        "trusted": true,
        "id": "tw5fiEJ7JLk7"
      },
      "execution_count": null,
      "outputs": []
    },
    {
      "cell_type": "markdown",
      "source": [
        "# Data visualization using mediapipe APIs\n",
        "\n",
        "Let us visualize the hand landmarks data for the phrase ***3 creek house*** using the [hand landmarker apis](https://developers.google.com/mediapipe/solutions/vision/hand_landmarker) of the [mediapipe library](https://developers.google.com/mediapipe).\n",
        "\n",
        "Hand landmarks represent the key points on a human hand.\n",
        "\n",
        "Reference: [Data visualization using mediapipe APIs by sknadig](https://www.kaggle.com/code/nadigshreekanth/data-visualization-using-mediapipe-apis)"
      ],
      "metadata": {
        "id": "JwOBilW1JLk7"
      }
    },
    {
      "cell_type": "code",
      "source": [
        "# Function create animation from images.\n",
        "\n",
        "matplotlib.rcParams['animation.embed_limit'] = 2**128\n",
        "matplotlib.rcParams['savefig.pad_inches'] = 0\n",
        "rc('animation', html='jshtml')\n",
        "\n",
        "def create_animation(images):\n",
        "    fig = plt.figure(figsize=(6, 9))\n",
        "    ax = plt.Axes(fig, [0., 0., 1., 1.])\n",
        "    ax.set_axis_off()\n",
        "    fig.add_axes(ax)\n",
        "    im=ax.imshow(images[0], cmap=\"gray\")\n",
        "    plt.close(fig)\n",
        "\n",
        "    def animate_func(i):\n",
        "        im.set_array(images[i])\n",
        "        return [im]\n",
        "\n",
        "    return animation.FuncAnimation(fig, animate_func, frames=len(images), interval=1000/10)"
      ],
      "metadata": {
        "execution": {
          "iopub.status.busy": "2023-07-04T12:18:47.337964Z",
          "iopub.execute_input": "2023-07-04T12:18:47.339823Z",
          "iopub.status.idle": "2023-07-04T12:18:47.347972Z",
          "shell.execute_reply.started": "2023-07-04T12:18:47.339795Z",
          "shell.execute_reply": "2023-07-04T12:18:47.346985Z"
        },
        "trusted": true,
        "id": "Cacasb8qJLk7"
      },
      "execution_count": null,
      "outputs": []
    },
    {
      "cell_type": "markdown",
      "source": [
        "This image illustrates the 21 keypoints on the hand.\n",
        "\n",
        "![hand-landmarks (1).png](attachment:bd58b6bd-7c28-48d1-8dd4-6b11d0e3d4a8.png)\n",
        "\n",
        "source: https://developers.google.com/mediapipe/solutions/vision/hand_landmarker"
      ],
      "metadata": {
        "id": "l_aGIc8-JLk8"
      }
    },
    {
      "cell_type": "code",
      "source": [
        "# Extract the landmark data and convert it to an image using medipipe library.\n",
        "# This function extracts the data for both hands.\n",
        "\n",
        "mp_pose = mediapipe.solutions.pose\n",
        "mp_hands = mediapipe.solutions.hands\n",
        "mp_drawing = mediapipe.solutions.drawing_utils\n",
        "mp_drawing_styles = mediapipe.solutions.drawing_styles\n",
        "\n",
        "def get_hands(seq_df):\n",
        "    images = []\n",
        "    all_hand_landmarks = []\n",
        "    for seq_idx in range(len(seq_df)):\n",
        "        x_hand = seq_df.iloc[seq_idx].filter(regex=\"x_right_hand.*\").values\n",
        "        y_hand = seq_df.iloc[seq_idx].filter(regex=\"y_right_hand.*\").values\n",
        "        z_hand = seq_df.iloc[seq_idx].filter(regex=\"z_right_hand.*\").values\n",
        "\n",
        "        right_hand_image = np.zeros((600, 600, 3))\n",
        "\n",
        "        right_hand_landmarks = landmark_pb2.NormalizedLandmarkList()\n",
        "\n",
        "        for x, y, z in zip(x_hand, y_hand, z_hand):\n",
        "            right_hand_landmarks.landmark.add(x=x, y=y, z=z)\n",
        "\n",
        "        mp_drawing.draw_landmarks(\n",
        "                right_hand_image,\n",
        "                right_hand_landmarks,\n",
        "                mp_hands.HAND_CONNECTIONS,\n",
        "                landmark_drawing_spec=mp_drawing_styles.get_default_hand_landmarks_style())\n",
        "\n",
        "        x_hand = seq_df.iloc[seq_idx].filter(regex=\"x_left_hand.*\").values\n",
        "        y_hand = seq_df.iloc[seq_idx].filter(regex=\"y_left_hand.*\").values\n",
        "        z_hand = seq_df.iloc[seq_idx].filter(regex=\"z_left_hand.*\").values\n",
        "\n",
        "        left_hand_image = np.zeros((600, 600, 3))\n",
        "\n",
        "        left_hand_landmarks = landmark_pb2.NormalizedLandmarkList()\n",
        "        for x, y, z in zip(x_hand, y_hand, z_hand):\n",
        "            left_hand_landmarks.landmark.add(x=x, y=y, z=z)\n",
        "\n",
        "        mp_drawing.draw_landmarks(\n",
        "                left_hand_image,\n",
        "                left_hand_landmarks,\n",
        "                mp_hands.HAND_CONNECTIONS,\n",
        "                landmark_drawing_spec=mp_drawing_styles.get_default_hand_landmarks_style())\n",
        "\n",
        "        images.append([right_hand_image.astype(np.uint8), left_hand_image.astype(np.uint8)])\n",
        "        all_hand_landmarks.append([right_hand_landmarks, left_hand_landmarks])\n",
        "    return images, all_hand_landmarks"
      ],
      "metadata": {
        "execution": {
          "iopub.status.busy": "2023-07-04T12:18:47.354628Z",
          "iopub.execute_input": "2023-07-04T12:18:47.354889Z",
          "iopub.status.idle": "2023-07-04T12:18:47.370927Z",
          "shell.execute_reply.started": "2023-07-04T12:18:47.354867Z",
          "shell.execute_reply": "2023-07-04T12:18:47.370333Z"
        },
        "trusted": true,
        "id": "Ykq9BQUkJLk8"
      },
      "execution_count": null,
      "outputs": []
    },
    {
      "cell_type": "code",
      "source": [
        "# Get the images created using mediapipe apis\n",
        "hand_images, hand_landmarks = get_hands(sample_sequence_df)\n",
        "# Fetch and show the data for right hand\n",
        "create_animation(np.array(hand_images)[:, 0])"
      ],
      "metadata": {
        "execution": {
          "iopub.status.busy": "2023-07-04T12:18:47.372005Z",
          "iopub.execute_input": "2023-07-04T12:18:47.37291Z",
          "iopub.status.idle": "2023-07-04T12:18:59.391037Z",
          "shell.execute_reply.started": "2023-07-04T12:18:47.372876Z",
          "shell.execute_reply": "2023-07-04T12:18:59.389927Z"
        },
        "trusted": true,
        "id": "LWLNXUtJJLk8"
      },
      "execution_count": null,
      "outputs": []
    },
    {
      "cell_type": "markdown",
      "source": [
        "# Preprocess the data\n",
        "\n",
        "For convenience and efficiency, we will rearrange the data so that each parquet file contains the landmark data along with the phrase it represents. This way we don't have to switch between train.csv and its parquet file.\n",
        "\n",
        "We will save the new data in the [TFRecord](https://www.tensorflow.org/tutorials/load_data/tfrecord) format. `TFRecord` format is a simple format for storing a sequence of binary records. Storing and loading the data using `TFRecord` is much more efficient and faster.\n",
        "\n",
        "Reference:\n",
        "\n",
        "https://www.kaggle.com/code/irohith/aslfr-preprocess-dataset\n",
        "\n",
        "https://www.kaggle.com/code/shlomoron/aslfr-parquets-to-tfrecords-cleaned"
      ],
      "metadata": {
        "id": "hponIhe5JLk8"
      }
    },
    {
      "cell_type": "markdown",
      "source": [
        "ASL-Fingerspelling mainly focusses on hand movement. So we will take hand land mark coordinates and pose coordinates for hands to train the model."
      ],
      "metadata": {
        "id": "_P_1vow5JLk8"
      }
    },
    {
      "cell_type": "markdown",
      "source": [
        "# Fetch the pose landmark coordinates related to hand movement."
      ],
      "metadata": {
        "id": "CEzlYvV8JLk8"
      }
    },
    {
      "cell_type": "markdown",
      "source": [
        "This image illustrates the pose coordinates related to hand movement. The pose coordinates also come from the parquet file.\n",
        "\n",
        "\n",
        "![pose.png](attachment:1389643c-6068-4c7d-9275-0b42f25b836e.png)\n",
        "\n",
        "[Image source](https://developers.google.com/mediapipe/solutions/vision/pose_landmarker)"
      ],
      "metadata": {
        "id": "vNX74zzRJLk8"
      }
    },
    {
      "cell_type": "code",
      "source": [
        "# Pose coordinates for hand movement.\n",
        "LPOSE = [13, 15, 17, 19, 21]\n",
        "RPOSE = [14, 16, 18, 20, 22]\n",
        "POSE = LPOSE + RPOSE"
      ],
      "metadata": {
        "execution": {
          "iopub.status.busy": "2023-07-04T12:18:59.392063Z",
          "iopub.execute_input": "2023-07-04T12:18:59.392396Z",
          "iopub.status.idle": "2023-07-04T12:18:59.398213Z",
          "shell.execute_reply.started": "2023-07-04T12:18:59.392368Z",
          "shell.execute_reply": "2023-07-04T12:18:59.396911Z"
        },
        "trusted": true,
        "id": "IA5bk64cJLk8"
      },
      "execution_count": null,
      "outputs": []
    },
    {
      "cell_type": "markdown",
      "source": [
        "# Create x,y,z label names from coordinates"
      ],
      "metadata": {
        "id": "m7Wy6LwTJLk8"
      }
    },
    {
      "cell_type": "code",
      "source": [
        "X = [f'x_right_hand_{i}' for i in range(21)] + [f'x_left_hand_{i}' for i in range(21)] + [f'x_pose_{i}' for i in POSE]\n",
        "Y = [f'y_right_hand_{i}' for i in range(21)] + [f'y_left_hand_{i}' for i in range(21)] + [f'y_pose_{i}' for i in POSE]\n",
        "Z = [f'z_right_hand_{i}' for i in range(21)] + [f'z_left_hand_{i}' for i in range(21)] + [f'z_pose_{i}' for i in POSE]"
      ],
      "metadata": {
        "execution": {
          "iopub.status.busy": "2023-07-04T12:18:59.399789Z",
          "iopub.execute_input": "2023-07-04T12:18:59.400473Z",
          "iopub.status.idle": "2023-07-04T12:18:59.42806Z",
          "shell.execute_reply.started": "2023-07-04T12:18:59.400437Z",
          "shell.execute_reply": "2023-07-04T12:18:59.427085Z"
        },
        "trusted": true,
        "id": "L4evfoenJLk8"
      },
      "execution_count": null,
      "outputs": []
    },
    {
      "cell_type": "markdown",
      "source": [
        "Create feature columns from the extracted coordinates."
      ],
      "metadata": {
        "id": "BKx_6OXeJLk8"
      }
    },
    {
      "cell_type": "code",
      "source": [
        "FEATURE_COLUMNS = X + Y + Z"
      ],
      "metadata": {
        "execution": {
          "iopub.status.busy": "2023-07-04T12:18:59.429279Z",
          "iopub.execute_input": "2023-07-04T12:18:59.429876Z",
          "iopub.status.idle": "2023-07-04T12:18:59.438502Z",
          "shell.execute_reply.started": "2023-07-04T12:18:59.429839Z",
          "shell.execute_reply": "2023-07-04T12:18:59.437663Z"
        },
        "trusted": true,
        "id": "QYXclDmdJLk8"
      },
      "execution_count": null,
      "outputs": []
    },
    {
      "cell_type": "markdown",
      "source": [
        "Store ids of each coordinate labels to lists"
      ],
      "metadata": {
        "id": "HShRL0ruJLk8"
      }
    },
    {
      "cell_type": "code",
      "source": [
        "X_IDX = [i for i, col in enumerate(FEATURE_COLUMNS)  if \"x_\" in col]\n",
        "Y_IDX = [i for i, col in enumerate(FEATURE_COLUMNS)  if \"y_\" in col]\n",
        "Z_IDX = [i for i, col in enumerate(FEATURE_COLUMNS)  if \"z_\" in col]\n",
        "\n",
        "RHAND_IDX = [i for i, col in enumerate(FEATURE_COLUMNS)  if \"right\" in col]\n",
        "LHAND_IDX = [i for i, col in enumerate(FEATURE_COLUMNS)  if  \"left\" in col]\n",
        "RPOSE_IDX = [i for i, col in enumerate(FEATURE_COLUMNS)  if  \"pose\" in col and int(col[-2:]) in RPOSE]\n",
        "LPOSE_IDX = [i for i, col in enumerate(FEATURE_COLUMNS)  if  \"pose\" in col and int(col[-2:]) in LPOSE]"
      ],
      "metadata": {
        "execution": {
          "iopub.status.busy": "2023-07-04T12:18:59.440182Z",
          "iopub.execute_input": "2023-07-04T12:18:59.440887Z",
          "iopub.status.idle": "2023-07-04T12:18:59.449256Z",
          "shell.execute_reply.started": "2023-07-04T12:18:59.440855Z",
          "shell.execute_reply": "2023-07-04T12:18:59.448228Z"
        },
        "trusted": true,
        "id": "PWwPal83JLk8"
      },
      "execution_count": null,
      "outputs": []
    },
    {
      "cell_type": "markdown",
      "source": [
        "# Preprocess and write the dataset as TFRecords"
      ],
      "metadata": {
        "id": "ImA3BSaZJLk8"
      }
    },
    {
      "cell_type": "markdown",
      "source": [
        "Using the extracted landmarks and phrases let us create new dataset files and write them as TFRecords.\n",
        "\n",
        "This takes around 10 minutes. After this, loading the dataset will be faster for any future experiments."
      ],
      "metadata": {
        "id": "BKH0wEJ_JLk8"
      }
    },
    {
      "cell_type": "code",
      "source": [
        "# Set length of frames to 128\n",
        "FRAME_LEN = 128\n",
        "\n",
        "# Create directory to store the new data\n",
        "if not os.path.isdir(\"preprocessed\"):\n",
        "    os.mkdir(\"preprocessed\")\n",
        "else:\n",
        "    shutil.rmtree(\"preprocessed\")\n",
        "    os.mkdir(\"preprocessed\")\n",
        "\n",
        "# Loop through each file_id\n",
        "for file_id in tqdm(dataset_df.file_id.unique()):\n",
        "    # Parquet file name\n",
        "    pq_file = f\"/kaggle/input/asl-fingerspelling/train_landmarks/{file_id}.parquet\"\n",
        "    # Filter train.csv and fetch entries only for the relevant file_id\n",
        "    file_df = dataset_df.loc[dataset_df[\"file_id\"] == file_id]\n",
        "    # Fetch the parquet file\n",
        "    parquet_df = pq.read_table(f\"/kaggle/input/asl-fingerspelling/train_landmarks/{str(file_id)}.parquet\",\n",
        "                              columns=['sequence_id'] + FEATURE_COLUMNS).to_pandas()\n",
        "    # File name for the updated data\n",
        "    tf_file = f\"preprocessed/{file_id}.tfrecord\"\n",
        "    parquet_numpy = parquet_df.to_numpy()\n",
        "    # Initialize the pointer to write the output of\n",
        "    # each `for loop` below as a sequence into the file.\n",
        "    with tf.io.TFRecordWriter(tf_file) as file_writer:\n",
        "        # Loop through each sequence in file.\n",
        "        for seq_id, phrase in zip(file_df.sequence_id, file_df.phrase):\n",
        "            # Fetch sequence data\n",
        "            frames = parquet_numpy[parquet_df.index == seq_id]\n",
        "\n",
        "            # Calculate the number of NaN values in each hand landmark\n",
        "            r_nonan = np.sum(np.sum(np.isnan(frames[:, RHAND_IDX]), axis = 1) == 0)\n",
        "            l_nonan = np.sum(np.sum(np.isnan(frames[:, LHAND_IDX]), axis = 1) == 0)\n",
        "            no_nan = max(r_nonan, l_nonan)\n",
        "\n",
        "            if 2*len(phrase)<no_nan:\n",
        "                features = {FEATURE_COLUMNS[i]: tf.train.Feature(\n",
        "                    float_list=tf.train.FloatList(value=frames[:, i])) for i in range(len(FEATURE_COLUMNS))}\n",
        "                features[\"phrase\"] = tf.train.Feature(bytes_list=tf.train.BytesList(value=[bytes(phrase, 'utf-8')]))\n",
        "                record_bytes = tf.train.Example(features=tf.train.Features(feature=features)).SerializeToString()\n",
        "                file_writer.write(record_bytes)"
      ],
      "metadata": {
        "execution": {
          "iopub.status.busy": "2023-07-04T12:18:59.450879Z",
          "iopub.execute_input": "2023-07-04T12:18:59.451273Z",
          "iopub.status.idle": "2023-07-04T12:28:54.268272Z",
          "shell.execute_reply.started": "2023-07-04T12:18:59.451242Z",
          "shell.execute_reply": "2023-07-04T12:28:54.267225Z"
        },
        "trusted": true,
        "id": "innynQdCJLk8"
      },
      "execution_count": null,
      "outputs": []
    },
    {
      "cell_type": "markdown",
      "source": [
        " Load the preprocessed data"
      ],
      "metadata": {
        "id": "Y6fUkFmVJLk8"
      }
    },
    {
      "cell_type": "markdown",
      "source": [
        "# Get the saved TFRecord files into a list"
      ],
      "metadata": {
        "id": "ZRCeWkF6JLk8"
      }
    },
    {
      "cell_type": "code",
      "source": [
        "tf_records = dataset_df.file_id.map(lambda x: f'/kaggle/working/preprocessed/{x}.tfrecord').unique()\n",
        "print(f\"List of {len(tf_records)} TFRecord files.\")"
      ],
      "metadata": {
        "execution": {
          "iopub.status.busy": "2023-07-04T12:28:54.269827Z",
          "iopub.execute_input": "2023-07-04T12:28:54.270876Z",
          "iopub.status.idle": "2023-07-04T12:28:54.329602Z",
          "shell.execute_reply.started": "2023-07-04T12:28:54.270838Z",
          "shell.execute_reply": "2023-07-04T12:28:54.328666Z"
        },
        "trusted": true,
        "id": "41bAQ8aTJLk8"
      },
      "execution_count": null,
      "outputs": []
    },
    {
      "cell_type": "markdown",
      "source": [
        "# Load character_to_prediction json file"
      ],
      "metadata": {
        "id": "DbuwEHP-JLk_"
      }
    },
    {
      "cell_type": "markdown",
      "source": [
        "This json file contains a character and its value. We will add three new characters, \"<\" and \">\" to mark the start and end of each phrase, and \"P\" for padding."
      ],
      "metadata": {
        "id": "9rarvm5aJLk_"
      }
    },
    {
      "cell_type": "code",
      "source": [
        "with open (\"/kaggle/input/asl-fingerspelling/character_to_prediction_index.json\", \"r\") as f:\n",
        "    char_to_num = json.load(f)\n",
        "\n",
        "# Add pad_token, start pointer and end pointer to the dict\n",
        "pad_token = 'P'\n",
        "start_token = '<'\n",
        "end_token = '>'\n",
        "pad_token_idx = 59\n",
        "start_token_idx = 60\n",
        "end_token_idx = 61\n",
        "\n",
        "char_to_num[pad_token] = pad_token_idx\n",
        "char_to_num[start_token] = start_token_idx\n",
        "char_to_num[end_token] = end_token_idx\n",
        "num_to_char = {j:i for i,j in char_to_num.items()}"
      ],
      "metadata": {
        "execution": {
          "iopub.status.busy": "2023-07-04T12:28:54.331015Z",
          "iopub.execute_input": "2023-07-04T12:28:54.331597Z",
          "iopub.status.idle": "2023-07-04T12:28:54.356079Z",
          "shell.execute_reply.started": "2023-07-04T12:28:54.331564Z",
          "shell.execute_reply": "2023-07-04T12:28:54.355235Z"
        },
        "trusted": true,
        "id": "AnZUHodTJLk_"
      },
      "execution_count": null,
      "outputs": []
    },
    {
      "cell_type": "code",
      "source": [
        "# Reference: https://www.kaggle.com/code/irohith/aslfr-transformer/notebook\n",
        "\n",
        "# Function to resize and add padding.\n",
        "def resize_pad(x):\n",
        "    if tf.shape(x)[0] < FRAME_LEN:\n",
        "        x = tf.pad(x, ([[0, FRAME_LEN-tf.shape(x)[0]], [0, 0], [0, 0]]))\n",
        "    else:\n",
        "        x = tf.image.resize(x, (FRAME_LEN, tf.shape(x)[1]))\n",
        "    return x\n",
        "\n",
        "# Detect the dominant hand from the number of NaN values.\n",
        "# Dominant hand will have less NaN values since it is in frame moving.\n",
        "def pre_process(x):\n",
        "    rhand = tf.gather(x, RHAND_IDX, axis=1)\n",
        "    lhand = tf.gather(x, LHAND_IDX, axis=1)\n",
        "    rpose = tf.gather(x, RPOSE_IDX, axis=1)\n",
        "    lpose = tf.gather(x, LPOSE_IDX, axis=1)\n",
        "\n",
        "    rnan_idx = tf.reduce_any(tf.math.is_nan(rhand), axis=1)\n",
        "    lnan_idx = tf.reduce_any(tf.math.is_nan(lhand), axis=1)\n",
        "\n",
        "    rnans = tf.math.count_nonzero(rnan_idx)\n",
        "    lnans = tf.math.count_nonzero(lnan_idx)\n",
        "\n",
        "    # For dominant hand\n",
        "    if rnans > lnans:\n",
        "        hand = lhand\n",
        "        pose = lpose\n",
        "\n",
        "        hand_x = hand[:, 0*(len(LHAND_IDX)//3) : 1*(len(LHAND_IDX)//3)]\n",
        "        hand_y = hand[:, 1*(len(LHAND_IDX)//3) : 2*(len(LHAND_IDX)//3)]\n",
        "        hand_z = hand[:, 2*(len(LHAND_IDX)//3) : 3*(len(LHAND_IDX)//3)]\n",
        "        hand = tf.concat([1-hand_x, hand_y, hand_z], axis=1)\n",
        "\n",
        "        pose_x = pose[:, 0*(len(LPOSE_IDX)//3) : 1*(len(LPOSE_IDX)//3)]\n",
        "        pose_y = pose[:, 1*(len(LPOSE_IDX)//3) : 2*(len(LPOSE_IDX)//3)]\n",
        "        pose_z = pose[:, 2*(len(LPOSE_IDX)//3) : 3*(len(LPOSE_IDX)//3)]\n",
        "        pose = tf.concat([1-pose_x, pose_y, pose_z], axis=1)\n",
        "    else:\n",
        "        hand = rhand\n",
        "        pose = rpose\n",
        "\n",
        "    hand_x = hand[:, 0*(len(LHAND_IDX)//3) : 1*(len(LHAND_IDX)//3)]\n",
        "    hand_y = hand[:, 1*(len(LHAND_IDX)//3) : 2*(len(LHAND_IDX)//3)]\n",
        "    hand_z = hand[:, 2*(len(LHAND_IDX)//3) : 3*(len(LHAND_IDX)//3)]\n",
        "    hand = tf.concat([hand_x[..., tf.newaxis], hand_y[..., tf.newaxis], hand_z[..., tf.newaxis]], axis=-1)\n",
        "\n",
        "    mean = tf.math.reduce_mean(hand, axis=1)[:, tf.newaxis, :]\n",
        "    std = tf.math.reduce_std(hand, axis=1)[:, tf.newaxis, :]\n",
        "    hand = (hand - mean) / std\n",
        "\n",
        "    pose_x = pose[:, 0*(len(LPOSE_IDX)//3) : 1*(len(LPOSE_IDX)//3)]\n",
        "    pose_y = pose[:, 1*(len(LPOSE_IDX)//3) : 2*(len(LPOSE_IDX)//3)]\n",
        "    pose_z = pose[:, 2*(len(LPOSE_IDX)//3) : 3*(len(LPOSE_IDX)//3)]\n",
        "    pose = tf.concat([pose_x[..., tf.newaxis], pose_y[..., tf.newaxis], pose_z[..., tf.newaxis]], axis=-1)\n",
        "\n",
        "    x = tf.concat([hand, pose], axis=1)\n",
        "    x = resize_pad(x)\n",
        "\n",
        "    x = tf.where(tf.math.is_nan(x), tf.zeros_like(x), x)\n",
        "    x = tf.reshape(x, (FRAME_LEN, len(LHAND_IDX) + len(LPOSE_IDX)))\n",
        "    return x"
      ],
      "metadata": {
        "execution": {
          "iopub.status.busy": "2023-07-04T12:28:54.357552Z",
          "iopub.execute_input": "2023-07-04T12:28:54.357878Z",
          "iopub.status.idle": "2023-07-04T12:28:54.377004Z",
          "shell.execute_reply.started": "2023-07-04T12:28:54.357848Z",
          "shell.execute_reply": "2023-07-04T12:28:54.375972Z"
        },
        "trusted": true,
        "id": "n3dt0aDqJLk_"
      },
      "execution_count": null,
      "outputs": []
    },
    {
      "cell_type": "markdown",
      "source": [
        "# Create function to parse data from TFRecord format\n",
        "\n",
        "This function will read the `TFRecord` data and convert it to Tensors."
      ],
      "metadata": {
        "id": "1x-udXxoJLk_"
      }
    },
    {
      "cell_type": "code",
      "source": [
        "def decode_fn(record_bytes):\n",
        "    schema = {COL: tf.io.VarLenFeature(dtype=tf.float32) for COL in FEATURE_COLUMNS}\n",
        "    schema[\"phrase\"] = tf.io.FixedLenFeature([], dtype=tf.string)\n",
        "    features = tf.io.parse_single_example(record_bytes, schema)\n",
        "    phrase = features[\"phrase\"]\n",
        "    landmarks = ([tf.sparse.to_dense(features[COL]) for COL in FEATURE_COLUMNS])\n",
        "    # Transpose to maintain the original shape of landmarks data.\n",
        "    landmarks = tf.transpose(landmarks)\n",
        "\n",
        "    return landmarks, phrase"
      ],
      "metadata": {
        "execution": {
          "iopub.status.busy": "2023-07-04T12:28:54.378597Z",
          "iopub.execute_input": "2023-07-04T12:28:54.379078Z",
          "iopub.status.idle": "2023-07-04T12:28:54.388933Z",
          "shell.execute_reply.started": "2023-07-04T12:28:54.379047Z",
          "shell.execute_reply": "2023-07-04T12:28:54.387959Z"
        },
        "trusted": true,
        "id": "3N3lN5FZJLk_"
      },
      "execution_count": null,
      "outputs": []
    },
    {
      "cell_type": "markdown",
      "source": [
        "# Create function to convert the data\n",
        "\n",
        "This function transposes and applies masks to the landmark coordinates. It also vectorizes the phrase corresponding to the landmarks using `character_to_prediction_index.json`."
      ],
      "metadata": {
        "id": "LW4VqVXLJLk_"
      }
    },
    {
      "cell_type": "code",
      "source": [
        "table = tf.lookup.StaticHashTable(\n",
        "    initializer=tf.lookup.KeyValueTensorInitializer(\n",
        "        keys=list(char_to_num.keys()),\n",
        "        values=list(char_to_num.values()),\n",
        "    ),\n",
        "    default_value=tf.constant(-1),\n",
        "    name=\"class_weight\"\n",
        ")\n",
        "\n",
        "def convert_fn(landmarks, phrase):\n",
        "    # Add start and end pointers to phrase.\n",
        "    phrase = start_token + phrase + end_token\n",
        "    phrase = tf.strings.bytes_split(phrase)\n",
        "    phrase = table.lookup(phrase)\n",
        "    # Vectorize and add padding.\n",
        "    phrase = tf.pad(phrase, paddings=[[0, 64 - tf.shape(phrase)[0]]], mode = 'CONSTANT',\n",
        "                    constant_values = pad_token_idx)\n",
        "    # Apply pre_process function to the landmarks.\n",
        "    return pre_process(landmarks), phrase"
      ],
      "metadata": {
        "execution": {
          "iopub.status.busy": "2023-07-04T12:28:54.390157Z",
          "iopub.execute_input": "2023-07-04T12:28:54.390665Z",
          "iopub.status.idle": "2023-07-04T12:28:57.27719Z",
          "shell.execute_reply.started": "2023-07-04T12:28:54.390635Z",
          "shell.execute_reply": "2023-07-04T12:28:57.276222Z"
        },
        "trusted": true,
        "id": "ppOEIf5RJLk_"
      },
      "execution_count": null,
      "outputs": []
    },
    {
      "cell_type": "markdown",
      "source": [
        "\n",
        "\n",
        "Use the functions we defined above to create the final dataset."
      ],
      "metadata": {
        "id": "noFf5dR5JLk_"
      }
    },
    {
      "cell_type": "markdown",
      "source": [
        "# Train and validation split/Create the final datasets"
      ],
      "metadata": {
        "id": "4vYfDWI2JLk_"
      }
    },
    {
      "cell_type": "code",
      "source": [
        "batch_size = 64\n",
        "train_len = int(0.8 * len(tf_records))\n",
        "\n",
        "train_ds = tf.data.TFRecordDataset(tf_records[:train_len]).map(decode_fn).map(convert_fn).batch(batch_size).prefetch(buffer_size=tf.data.AUTOTUNE).cache()\n",
        "valid_ds = tf.data.TFRecordDataset(tf_records[train_len:]).map(decode_fn).map(convert_fn).batch(batch_size).prefetch(buffer_size=tf.data.AUTOTUNE).cache()"
      ],
      "metadata": {
        "execution": {
          "iopub.status.busy": "2023-07-04T12:28:57.278747Z",
          "iopub.execute_input": "2023-07-04T12:28:57.279103Z",
          "iopub.status.idle": "2023-07-04T12:28:59.133943Z",
          "shell.execute_reply.started": "2023-07-04T12:28:57.27907Z",
          "shell.execute_reply": "2023-07-04T12:28:59.132922Z"
        },
        "trusted": true,
        "id": "3UppV_g5JLlA"
      },
      "execution_count": null,
      "outputs": []
    },
    {
      "cell_type": "markdown",
      "source": [
        "# Create the Transformer model\n",
        "\n",
        "We will use a **[Transformer](https://en.wikipedia.org/wiki/Transformer_(machine_learning_model))** to train a model for this dataset. **Transformers** are designed to process sequential input data. The model we are going to design is similar to the one used in the [Automatic Speech Recognition with Transformer](https://keras.io/examples/audio/transformer_asr/) tutorial for **Keras**. We will finetune only a small part of the model since we can treat the ASL Fingerspelling recognition problem similar to speech recognition. In both cases, we have to predict a sentence from a sequence of data.\n",
        "\n",
        "![picnogrid.gif](attachment:9c4fc53c-6b08-4404-9369-34f391fb78d6.gif)"
      ],
      "metadata": {
        "id": "4J_GB4HVJLlA"
      }
    },
    {
      "cell_type": "markdown",
      "source": [
        "# Define the Transformer Input Layers\n",
        "\n",
        "When processing landmark coordinate features for the encoder, we apply convolutional layers to downsample them and process local relationships.\n",
        "\n",
        "We sum position embeddings and token embeddings when processing past target tokens for the decoder."
      ],
      "metadata": {
        "id": "8WNCCCBaJLlA"
      }
    },
    {
      "cell_type": "code",
      "source": [
        "class TokenEmbedding(layers.Layer):\n",
        "    def __init__(self, num_vocab=1000, maxlen=100, num_hid=64):\n",
        "        super().__init__()\n",
        "        self.emb = tf.keras.layers.Embedding(num_vocab, num_hid)\n",
        "        self.pos_emb = layers.Embedding(input_dim=maxlen, output_dim=num_hid)\n",
        "\n",
        "    def call(self, x):\n",
        "        maxlen = tf.shape(x)[-1]\n",
        "        x = self.emb(x)\n",
        "        positions = tf.range(start=0, limit=maxlen, delta=1)\n",
        "        positions = self.pos_emb(positions)\n",
        "        return x + positions\n",
        "\n",
        "\n",
        "class LandmarkEmbedding(layers.Layer):\n",
        "    def __init__(self, num_hid=64, maxlen=100):\n",
        "        super().__init__()\n",
        "        self.conv1 = tf.keras.layers.Conv1D(\n",
        "            num_hid, 11, strides=2, padding=\"same\", activation=\"relu\"\n",
        "        )\n",
        "        self.conv2 = tf.keras.layers.Conv1D(\n",
        "            num_hid, 11, strides=2, padding=\"same\", activation=\"relu\"\n",
        "        )\n",
        "        self.conv3 = tf.keras.layers.Conv1D(\n",
        "            num_hid, 11, strides=2, padding=\"same\", activation=\"relu\"\n",
        "        )\n",
        "        self.pos_emb = layers.Embedding(input_dim=maxlen, output_dim=num_hid)\n",
        "\n",
        "    def call(self, x):\n",
        "        x = self.conv1(x)\n",
        "        x = self.conv2(x)\n",
        "        return self.conv3(x)"
      ],
      "metadata": {
        "execution": {
          "iopub.status.busy": "2023-07-04T12:28:59.135236Z",
          "iopub.execute_input": "2023-07-04T12:28:59.135606Z",
          "iopub.status.idle": "2023-07-04T12:28:59.149116Z",
          "shell.execute_reply.started": "2023-07-04T12:28:59.135574Z",
          "shell.execute_reply": "2023-07-04T12:28:59.148261Z"
        },
        "trusted": true,
        "id": "oy8KaaRlJLlA"
      },
      "execution_count": null,
      "outputs": []
    },
    {
      "cell_type": "markdown",
      "source": [
        "# Encoder layer for Transformer"
      ],
      "metadata": {
        "id": "katAxDGlJLlA"
      }
    },
    {
      "cell_type": "code",
      "source": [
        "class TransformerEncoder(layers.Layer):\n",
        "    def __init__(self, embed_dim, num_heads, feed_forward_dim, rate=0.1):\n",
        "        super().__init__()\n",
        "        self.att = layers.MultiHeadAttention(num_heads=num_heads, key_dim=embed_dim)\n",
        "        self.ffn = keras.Sequential(\n",
        "            [\n",
        "                layers.Dense(feed_forward_dim, activation=\"relu\"),\n",
        "                layers.Dense(embed_dim),\n",
        "            ]\n",
        "        )\n",
        "        self.layernorm1 = layers.LayerNormalization(epsilon=1e-6)\n",
        "        self.layernorm2 = layers.LayerNormalization(epsilon=1e-6)\n",
        "        self.dropout1 = layers.Dropout(rate)\n",
        "        self.dropout2 = layers.Dropout(rate)\n",
        "\n",
        "    def call(self, inputs, training):\n",
        "        attn_output = self.att(inputs, inputs)\n",
        "        attn_output = self.dropout1(attn_output, training=training)\n",
        "        out1 = self.layernorm1(inputs + attn_output)\n",
        "        ffn_output = self.ffn(out1)\n",
        "        ffn_output = self.dropout2(ffn_output, training=training)\n",
        "        return self.layernorm2(out1 + ffn_output)"
      ],
      "metadata": {
        "execution": {
          "iopub.status.busy": "2023-07-04T12:28:59.150502Z",
          "iopub.execute_input": "2023-07-04T12:28:59.151099Z",
          "iopub.status.idle": "2023-07-04T12:28:59.162664Z",
          "shell.execute_reply.started": "2023-07-04T12:28:59.151057Z",
          "shell.execute_reply": "2023-07-04T12:28:59.161746Z"
        },
        "trusted": true,
        "id": "GiZhBj9xJLlA"
      },
      "execution_count": null,
      "outputs": []
    },
    {
      "cell_type": "markdown",
      "source": [
        "# Decoder layer for Transformer"
      ],
      "metadata": {
        "id": "J1KTX8BgJLlA"
      }
    },
    {
      "cell_type": "code",
      "source": [
        "# Customized to add `training` variable\n",
        "# Reference: https://www.kaggle.com/code/shlomoron/aslfr-a-simple-transformer/notebook\n",
        "\n",
        "class TransformerDecoder(layers.Layer):\n",
        "    def __init__(self, embed_dim, num_heads, feed_forward_dim, dropout_rate=0.1):\n",
        "        super().__init__()\n",
        "        self.layernorm1 = layers.LayerNormalization(epsilon=1e-6)\n",
        "        self.layernorm2 = layers.LayerNormalization(epsilon=1e-6)\n",
        "        self.layernorm3 = layers.LayerNormalization(epsilon=1e-6)\n",
        "        self.self_att = layers.MultiHeadAttention(\n",
        "            num_heads=num_heads, key_dim=embed_dim\n",
        "        )\n",
        "        self.enc_att = layers.MultiHeadAttention(num_heads=num_heads, key_dim=embed_dim)\n",
        "        self.self_dropout = layers.Dropout(0.5)\n",
        "        self.enc_dropout = layers.Dropout(0.1)\n",
        "        self.ffn_dropout = layers.Dropout(0.1)\n",
        "        self.ffn = keras.Sequential(\n",
        "            [\n",
        "                layers.Dense(feed_forward_dim, activation=\"relu\"),\n",
        "                layers.Dense(embed_dim),\n",
        "            ]\n",
        "        )\n",
        "\n",
        "    def causal_attention_mask(self, batch_size, n_dest, n_src, dtype):\n",
        "        \"\"\"Masks the upper half of the dot product matrix in self attention.\n",
        "\n",
        "        This prevents flow of information from future tokens to current token.\n",
        "        1's in the lower triangle, counting from the lower right corner.\n",
        "        \"\"\"\n",
        "        i = tf.range(n_dest)[:, None]\n",
        "        j = tf.range(n_src)\n",
        "        m = i >= j - n_src + n_dest\n",
        "        mask = tf.cast(m, dtype)\n",
        "        mask = tf.reshape(mask, [1, n_dest, n_src])\n",
        "        mult = tf.concat(\n",
        "            [batch_size[..., tf.newaxis], tf.constant([1, 1], dtype=tf.int32)], 0\n",
        "        )\n",
        "        return tf.tile(mask, mult)\n",
        "\n",
        "    def call(self, enc_out, target, training):\n",
        "        input_shape = tf.shape(target)\n",
        "        batch_size = input_shape[0]\n",
        "        seq_len = input_shape[1]\n",
        "        causal_mask = self.causal_attention_mask(batch_size, seq_len, seq_len, tf.bool)\n",
        "        target_att = self.self_att(target, target, attention_mask=causal_mask)\n",
        "        target_norm = self.layernorm1(target + self.self_dropout(target_att, training = training))\n",
        "        enc_out = self.enc_att(target_norm, enc_out)\n",
        "        enc_out_norm = self.layernorm2(self.enc_dropout(enc_out, training = training) + target_norm)\n",
        "        ffn_out = self.ffn(enc_out_norm)\n",
        "        ffn_out_norm = self.layernorm3(enc_out_norm + self.ffn_dropout(ffn_out, training = training))\n",
        "        return ffn_out_norm"
      ],
      "metadata": {
        "execution": {
          "iopub.status.busy": "2023-07-04T12:28:59.165417Z",
          "iopub.execute_input": "2023-07-04T12:28:59.166088Z",
          "iopub.status.idle": "2023-07-04T12:28:59.180979Z",
          "shell.execute_reply.started": "2023-07-04T12:28:59.166047Z",
          "shell.execute_reply": "2023-07-04T12:28:59.179924Z"
        },
        "trusted": true,
        "id": "1mDsqgJsJLlA"
      },
      "execution_count": null,
      "outputs": []
    },
    {
      "cell_type": "markdown",
      "source": [
        "# Complete the Transformer model\n",
        "\n",
        "This model takes landmark coordinates as inputs and predicts a sequence of characters. The target character sequence, which has been shifted to the left is provided as the input to the decoder during training. The decoder employs its own past predictions during inference to forecast the next token.\n",
        "\n",
        "The **Levenshtein Distance** between sequences is used as the accuracy metric since the evaluation metric for this contest is the **Normalized Total Levenshtein Distance**."
      ],
      "metadata": {
        "id": "W3S2jxCxJLlA"
      }
    },
    {
      "cell_type": "code",
      "source": [
        "# Customized to add edit_dist metric and training variable.\n",
        "# Reference:\n",
        "# https://www.kaggle.com/code/irohith/aslfr-transformer/notebook\n",
        "# https://www.kaggle.com/code/shlomoron/aslfr-a-simple-transformer/notebook\n",
        "\n",
        "class Transformer(keras.Model):\n",
        "    def __init__(\n",
        "        self,\n",
        "        num_hid=64,\n",
        "        num_head=2,\n",
        "        num_feed_forward=128,\n",
        "        source_maxlen=100,\n",
        "        target_maxlen=100,\n",
        "        num_layers_enc=4,\n",
        "        num_layers_dec=1,\n",
        "        num_classes=60,\n",
        "    ):\n",
        "        super().__init__()\n",
        "        self.loss_metric = keras.metrics.Mean(name=\"loss\")\n",
        "        self.acc_metric = keras.metrics.Mean(name=\"edit_dist\")\n",
        "        self.num_layers_enc = num_layers_enc\n",
        "        self.num_layers_dec = num_layers_dec\n",
        "        self.target_maxlen = target_maxlen\n",
        "        self.num_classes = num_classes\n",
        "\n",
        "        self.enc_input = LandmarkEmbedding(num_hid=num_hid, maxlen=source_maxlen)\n",
        "        self.dec_input = TokenEmbedding(\n",
        "            num_vocab=num_classes, maxlen=target_maxlen, num_hid=num_hid\n",
        "        )\n",
        "\n",
        "        self.encoder = keras.Sequential(\n",
        "            [self.enc_input]\n",
        "            + [\n",
        "                TransformerEncoder(num_hid, num_head, num_feed_forward)\n",
        "                for _ in range(num_layers_enc)\n",
        "            ]\n",
        "        )\n",
        "\n",
        "        for i in range(num_layers_dec):\n",
        "            setattr(\n",
        "                self,\n",
        "                f\"dec_layer_{i}\",\n",
        "                TransformerDecoder(num_hid, num_head, num_feed_forward),\n",
        "            )\n",
        "\n",
        "        self.classifier = layers.Dense(num_classes)\n",
        "\n",
        "    def decode(self, enc_out, target, training):\n",
        "        y = self.dec_input(target)\n",
        "        for i in range(self.num_layers_dec):\n",
        "            y = getattr(self, f\"dec_layer_{i}\")(enc_out, y, training)\n",
        "        return y\n",
        "\n",
        "    def call(self, inputs, training):\n",
        "        source = inputs[0]\n",
        "        target = inputs[1]\n",
        "        x = self.encoder(source, training)\n",
        "        y = self.decode(x, target, training)\n",
        "        return self.classifier(y)\n",
        "\n",
        "    @property\n",
        "    def metrics(self):\n",
        "        return [self.loss_metric]\n",
        "\n",
        "    def train_step(self, batch):\n",
        "        \"\"\"Processes one batch inside model.fit().\"\"\"\n",
        "        source = batch[0]\n",
        "        target = batch[1]\n",
        "\n",
        "        input_shape = tf.shape(target)\n",
        "        batch_size = input_shape[0]\n",
        "\n",
        "        dec_input = target[:, :-1]\n",
        "        dec_target = target[:, 1:]\n",
        "        with tf.GradientTape() as tape:\n",
        "            preds = self([source, dec_input])\n",
        "            one_hot = tf.one_hot(dec_target, depth=self.num_classes)\n",
        "            mask = tf.math.logical_not(tf.math.equal(dec_target, pad_token_idx))\n",
        "            loss = self.compiled_loss(one_hot, preds, sample_weight=mask)\n",
        "        trainable_vars = self.trainable_variables\n",
        "        gradients = tape.gradient(loss, trainable_vars)\n",
        "        self.optimizer.apply_gradients(zip(gradients, trainable_vars))\n",
        "        # Computes the Levenshtein distance between sequences since the evaluation\n",
        "        # metric for this contest is the normalized total levenshtein distance.\n",
        "        edit_dist = tf.edit_distance(tf.sparse.from_dense(target),\n",
        "                                     tf.sparse.from_dense(tf.cast(tf.argmax(preds, axis=1), tf.int32)))\n",
        "        edit_dist = tf.reduce_mean(edit_dist)\n",
        "        self.acc_metric.update_state(edit_dist)\n",
        "        self.loss_metric.update_state(loss)\n",
        "        return {\"loss\": self.loss_metric.result(), \"edit_dist\": self.acc_metric.result()}\n",
        "\n",
        "    def test_step(self, batch):\n",
        "        source = batch[0]\n",
        "        target = batch[1]\n",
        "\n",
        "        input_shape = tf.shape(target)\n",
        "        batch_size = input_shape[0]\n",
        "\n",
        "        dec_input = target[:, :-1]\n",
        "        dec_target = target[:, 1:]\n",
        "        preds = self([source, dec_input])\n",
        "        one_hot = tf.one_hot(dec_target, depth=self.num_classes)\n",
        "        mask = tf.math.logical_not(tf.math.equal(dec_target, pad_token_idx))\n",
        "        loss = self.compiled_loss(one_hot, preds, sample_weight=mask)\n",
        "        # Computes the Levenshtein distance between sequences since the evaluation\n",
        "        # metric for this contest is the normalized total levenshtein distance.\n",
        "        edit_dist = tf.edit_distance(tf.sparse.from_dense(target),\n",
        "                                     tf.sparse.from_dense(tf.cast(tf.argmax(preds, axis=1), tf.int32)))\n",
        "        edit_dist = tf.reduce_mean(edit_dist)\n",
        "        self.acc_metric.update_state(edit_dist)\n",
        "        self.loss_metric.update_state(loss)\n",
        "        return {\"loss\": self.loss_metric.result(), \"edit_dist\": self.acc_metric.result()}\n",
        "\n",
        "    def generate(self, source, target_start_token_idx):\n",
        "        \"\"\"Performs inference over one batch of inputs using greedy decoding.\"\"\"\n",
        "        bs = tf.shape(source)[0]\n",
        "        enc = self.encoder(source, training = False)\n",
        "        dec_input = tf.ones((bs, 1), dtype=tf.int32) * target_start_token_idx\n",
        "        dec_logits = []\n",
        "        for i in range(self.target_maxlen - 1):\n",
        "            dec_out = self.decode(enc, dec_input, training = False)\n",
        "            logits = self.classifier(dec_out)\n",
        "            logits = tf.argmax(logits, axis=-1, output_type=tf.int32)\n",
        "            last_logit = logits[:, -1][..., tf.newaxis]\n",
        "            dec_logits.append(last_logit)\n",
        "            dec_input = tf.concat([dec_input, last_logit], axis=-1)\n",
        "        return dec_input"
      ],
      "metadata": {
        "execution": {
          "iopub.status.busy": "2023-07-04T12:28:59.183833Z",
          "iopub.execute_input": "2023-07-04T12:28:59.184379Z",
          "iopub.status.idle": "2023-07-04T12:28:59.210509Z",
          "shell.execute_reply.started": "2023-07-04T12:28:59.184346Z",
          "shell.execute_reply": "2023-07-04T12:28:59.209323Z"
        },
        "trusted": true,
        "id": "iRM4FW8PJLlA"
      },
      "execution_count": null,
      "outputs": []
    },
    {
      "cell_type": "markdown",
      "source": [
        "The following callback function is used to display predictions."
      ],
      "metadata": {
        "id": "DjRvoeUbJLlA"
      }
    },
    {
      "cell_type": "code",
      "source": [
        "class DisplayOutputs(keras.callbacks.Callback):\n",
        "    def __init__(\n",
        "        self, batch, idx_to_token, target_start_token_idx=60, target_end_token_idx=61\n",
        "    ):\n",
        "        \"\"\"Displays a batch of outputs after every 4 epoch\n",
        "\n",
        "        Args:\n",
        "            batch: A test batch\n",
        "            idx_to_token: A List containing the vocabulary tokens corresponding to their indices\n",
        "            target_start_token_idx: A start token index in the target vocabulary\n",
        "            target_end_token_idx: An end token index in the target vocabulary\n",
        "        \"\"\"\n",
        "        self.batch = batch\n",
        "        self.target_start_token_idx = target_start_token_idx\n",
        "        self.target_end_token_idx = target_end_token_idx\n",
        "        self.idx_to_char = idx_to_token\n",
        "\n",
        "    def on_epoch_end(self, epoch, logs=None):\n",
        "        if epoch % 4 != 0:\n",
        "            return\n",
        "        source = self.batch[0]\n",
        "        target = self.batch[1].numpy()\n",
        "        bs = tf.shape(source)[0]\n",
        "        preds = self.model.generate(source, self.target_start_token_idx)\n",
        "        preds = preds.numpy()\n",
        "        for i in range(bs):\n",
        "            target_text = \"\".join([self.idx_to_char[_] for _ in target[i, :]])\n",
        "            prediction = \"\"\n",
        "            for idx in preds[i, :]:\n",
        "                prediction += self.idx_to_char[idx]\n",
        "                if idx == self.target_end_token_idx:\n",
        "                    break\n",
        "            print(f\"target:     {target_text.replace('-','')}\")\n",
        "            print(f\"prediction: {prediction}\\n\")"
      ],
      "metadata": {
        "execution": {
          "iopub.status.busy": "2023-07-04T12:28:59.212026Z",
          "iopub.execute_input": "2023-07-04T12:28:59.213058Z",
          "iopub.status.idle": "2023-07-04T12:28:59.223599Z",
          "shell.execute_reply.started": "2023-07-04T12:28:59.213027Z",
          "shell.execute_reply": "2023-07-04T12:28:59.222846Z"
        },
        "trusted": true,
        "id": "v0OicXqdJLlA"
      },
      "execution_count": null,
      "outputs": []
    },
    {
      "cell_type": "markdown",
      "source": [
        "# Train the Transformer model"
      ],
      "metadata": {
        "id": "PmlB-19rJLlA"
      }
    },
    {
      "cell_type": "code",
      "source": [
        "# Transformer variables are customized from original keras tutorial to suit this dataset.\n",
        "# Reference: https://www.kaggle.com/code/shlomoron/aslfr-a-simple-transformer/notebook\n",
        "\n",
        "batch = next(iter(valid_ds))\n",
        "\n",
        "# The vocabulary to convert predicted indices into characters\n",
        "idx_to_char = list(char_to_num.keys())\n",
        "display_cb = DisplayOutputs(\n",
        "    batch, idx_to_char, target_start_token_idx=char_to_num['<'], target_end_token_idx=char_to_num['>']\n",
        ")  # set the arguments as per vocabulary index for '<' and '>'\n",
        "\n",
        "model = Transformer(\n",
        "    num_hid=200,\n",
        "    num_head=4,\n",
        "    num_feed_forward=400,\n",
        "    source_maxlen = FRAME_LEN,\n",
        "    target_maxlen=64,\n",
        "    num_layers_enc=2,\n",
        "    num_layers_dec=1,\n",
        "    num_classes=62\n",
        ")\n",
        "loss_fn = tf.keras.losses.CategoricalCrossentropy(\n",
        "    from_logits=True, label_smoothing=0.1,\n",
        ")\n",
        "\n",
        "\n",
        "optimizer = keras.optimizers.Adam(0.0001)\n",
        "model.compile(optimizer=optimizer, loss=loss_fn)\n",
        "\n",
        "history = model.fit(train_ds, validation_data=valid_ds, callbacks=[display_cb], epochs=13)"
      ],
      "metadata": {
        "execution": {
          "iopub.status.busy": "2023-07-04T12:28:59.229412Z",
          "iopub.execute_input": "2023-07-04T12:28:59.229925Z",
          "iopub.status.idle": "2023-07-04T12:37:14.361541Z",
          "shell.execute_reply.started": "2023-07-04T12:28:59.229885Z",
          "shell.execute_reply": "2023-07-04T12:37:14.360476Z"
        },
        "trusted": true,
        "id": "b9gwy-FUJLlA"
      },
      "execution_count": null,
      "outputs": []
    },
    {
      "cell_type": "markdown",
      "source": [
        "# Plot training loss and validation loss"
      ],
      "metadata": {
        "id": "rFWQMdwXJLlA"
      }
    },
    {
      "cell_type": "code",
      "source": [
        "plt.plot(history.history['loss'])\n",
        "plt.plot(history.history['val_loss'])\n",
        "plt.legend(['training loss', 'val_loss'])"
      ],
      "metadata": {
        "execution": {
          "iopub.status.busy": "2023-07-04T12:37:14.363202Z",
          "iopub.execute_input": "2023-07-04T12:37:14.363581Z",
          "iopub.status.idle": "2023-07-04T12:37:14.697265Z",
          "shell.execute_reply.started": "2023-07-04T12:37:14.363546Z",
          "shell.execute_reply": "2023-07-04T12:37:14.696235Z"
        },
        "trusted": true,
        "id": "WY3DQCaJJLlA"
      },
      "execution_count": null,
      "outputs": []
    },
    {
      "cell_type": "markdown",
      "source": [
        "# Submission\n",
        "\n",
        "Refrence: https://www.kaggle.com/code/shlomoron/aslfr-a-simple-transformer/notebook"
      ],
      "metadata": {
        "id": "pUFz2FXqJLlA"
      }
    },
    {
      "cell_type": "markdown",
      "source": [
        "# Create TFLite model"
      ],
      "metadata": {
        "id": "pWWb8aRVJLlA"
      }
    },
    {
      "cell_type": "code",
      "source": [
        " class TFLiteModel(tf.Module):\n",
        "    def __init__(self, model):\n",
        "        super(TFLiteModel, self).__init__()\n",
        "        self.target_start_token_idx = start_token_idx\n",
        "        self.target_end_token_idx = end_token_idx\n",
        "        # Load the feature generation and main models\n",
        "        self.model = model\n",
        "\n",
        "    @tf.function(input_signature=[tf.TensorSpec(shape=[None, len(FEATURE_COLUMNS)], dtype=tf.float32, name='inputs')])\n",
        "    def __call__(self, inputs, training=False):\n",
        "        # Preprocess Data\n",
        "        x = tf.cast(inputs, tf.float32)\n",
        "        x = x[None]\n",
        "        x = tf.cond(tf.shape(x)[1] == 0, lambda: tf.zeros((1, 1, len(FEATURE_COLUMNS))), lambda: tf.identity(x))\n",
        "        x = x[0]\n",
        "        x = pre_process(x)\n",
        "        x = x[None]\n",
        "        x = self.model.generate(x, self.target_start_token_idx)\n",
        "        x = x[0]\n",
        "        idx = tf.argmax(tf.cast(tf.equal(x, self.target_end_token_idx), tf.int32))\n",
        "        idx = tf.where(tf.math.less(idx, 1), tf.constant(2, dtype=tf.int64), idx)\n",
        "        x = x[1:idx]\n",
        "        x = tf.one_hot(x, 59)\n",
        "        return {'outputs': x}\n",
        "\n",
        "tflitemodel_base = TFLiteModel(model)"
      ],
      "metadata": {
        "execution": {
          "iopub.status.busy": "2023-07-04T12:37:14.69864Z",
          "iopub.execute_input": "2023-07-04T12:37:14.699051Z",
          "iopub.status.idle": "2023-07-04T12:37:14.712397Z",
          "shell.execute_reply.started": "2023-07-04T12:37:14.699004Z",
          "shell.execute_reply": "2023-07-04T12:37:14.711401Z"
        },
        "trusted": true,
        "id": "Khr3ADnfJLlA"
      },
      "execution_count": null,
      "outputs": []
    },
    {
      "cell_type": "code",
      "source": [
        "model.save_weights(\"model.h5\")"
      ],
      "metadata": {
        "execution": {
          "iopub.status.busy": "2023-07-04T12:37:14.714168Z",
          "iopub.execute_input": "2023-07-04T12:37:14.714609Z",
          "iopub.status.idle": "2023-07-04T12:37:14.846428Z",
          "shell.execute_reply.started": "2023-07-04T12:37:14.714557Z",
          "shell.execute_reply": "2023-07-04T12:37:14.84546Z"
        },
        "trusted": true,
        "id": "qfXYRP0NJLlA"
      },
      "execution_count": null,
      "outputs": []
    },
    {
      "cell_type": "code",
      "source": [
        "keras_model_converter = tf.lite.TFLiteConverter.from_keras_model(tflitemodel_base)\n",
        "keras_model_converter.target_spec.supported_ops = [tf.lite.OpsSet.TFLITE_BUILTINS]#, tf.lite.OpsSet.SELECT_TF_OPS]\n",
        "tflite_model = keras_model_converter.convert()\n",
        "with open('/kaggle/working/model.tflite', 'wb') as f:\n",
        "    f.write(tflite_model)\n",
        "\n",
        "infargs = {\"selected_columns\" : FEATURE_COLUMNS}\n",
        "\n",
        "with open('inference_args.json', \"w\") as json_file:\n",
        "    json.dump(infargs, json_file)"
      ],
      "metadata": {
        "execution": {
          "iopub.status.busy": "2023-07-04T12:37:14.847672Z",
          "iopub.execute_input": "2023-07-04T12:37:14.848009Z",
          "iopub.status.idle": "2023-07-04T12:38:12.218172Z",
          "shell.execute_reply.started": "2023-07-04T12:37:14.847979Z",
          "shell.execute_reply": "2023-07-04T12:38:12.217133Z"
        },
        "trusted": true,
        "id": "Fu91zTewJLlB"
      },
      "execution_count": null,
      "outputs": []
    },
    {
      "cell_type": "code",
      "source": [
        "!zip submission.zip  './model.tflite' './inference_args.json'"
      ],
      "metadata": {
        "execution": {
          "iopub.status.busy": "2023-07-04T12:38:12.219686Z",
          "iopub.execute_input": "2023-07-04T12:38:12.220028Z",
          "iopub.status.idle": "2023-07-04T12:38:14.316241Z",
          "shell.execute_reply.started": "2023-07-04T12:38:12.219996Z",
          "shell.execute_reply": "2023-07-04T12:38:14.31501Z"
        },
        "trusted": true,
        "id": "Qj2rXWM1JLlB"
      },
      "execution_count": null,
      "outputs": []
    },
    {
      "cell_type": "code",
      "source": [
        "interpreter = tf.lite.Interpreter(\"model.tflite\")\n",
        "\n",
        "REQUIRED_SIGNATURE = \"serving_default\"\n",
        "REQUIRED_OUTPUT = \"outputs\"\n",
        "\n",
        "with open (\"/kaggle/input/asl-fingerspelling/character_to_prediction_index.json\", \"r\") as f:\n",
        "    character_map = json.load(f)\n",
        "rev_character_map = {j:i for i,j in character_map.items()}\n",
        "\n",
        "found_signatures = list(interpreter.get_signature_list().keys())\n",
        "\n",
        "if REQUIRED_SIGNATURE not in found_signatures:\n",
        "    raise KernelEvalException('Required input signature not found.')\n",
        "\n",
        "prediction_fn = interpreter.get_signature_runner(\"serving_default\")\n",
        "output = prediction_fn(inputs=batch[0][0])\n",
        "prediction_str = \"\".join([rev_character_map.get(s, \"\") for s in np.argmax(output[REQUIRED_OUTPUT], axis=1)])\n",
        "print(prediction_str)"
      ],
      "metadata": {
        "execution": {
          "iopub.status.busy": "2023-07-04T12:38:14.318305Z",
          "iopub.execute_input": "2023-07-04T12:38:14.319042Z",
          "iopub.status.idle": "2023-07-04T12:38:14.667422Z",
          "shell.execute_reply.started": "2023-07-04T12:38:14.319004Z",
          "shell.execute_reply": "2023-07-04T12:38:14.666364Z"
        },
        "trusted": true,
        "id": "ljPQLRy5JLlB"
      },
      "execution_count": null,
      "outputs": []
    }
  ]
}