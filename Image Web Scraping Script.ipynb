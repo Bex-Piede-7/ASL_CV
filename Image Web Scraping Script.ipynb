{
 "cells": [
  {
   "cell_type": "code",
   "execution_count": 1,
   "id": "a84f472c-1f42-4153-aafb-d6e727d3442d",
   "metadata": {},
   "outputs": [
    {
     "name": "stdout",
     "output_type": "stream",
     "text": [
      "Requirement already satisfied: requests in c:\\users\\megan\\anaconda3\\lib\\site-packages (2.32.3)\n",
      "Requirement already satisfied: beautifulsoup4 in c:\\users\\megan\\anaconda3\\lib\\site-packages (4.12.3)\n",
      "Requirement already satisfied: charset-normalizer<4,>=2 in c:\\users\\megan\\anaconda3\\lib\\site-packages (from requests) (3.3.2)\n",
      "Requirement already satisfied: idna<4,>=2.5 in c:\\users\\megan\\anaconda3\\lib\\site-packages (from requests) (3.7)\n",
      "Requirement already satisfied: urllib3<3,>=1.21.1 in c:\\users\\megan\\anaconda3\\lib\\site-packages (from requests) (2.3.0)\n",
      "Requirement already satisfied: certifi>=2017.4.17 in c:\\users\\megan\\anaconda3\\lib\\site-packages (from requests) (2025.7.14)\n",
      "Requirement already satisfied: soupsieve>1.2 in c:\\users\\megan\\anaconda3\\lib\\site-packages (from beautifulsoup4) (2.5)\n",
      "Note: you may need to restart the kernel to use updated packages.\n"
     ]
    }
   ],
   "source": [
    "pip install requests beautifulsoup4"
   ]
  },
  {
   "cell_type": "code",
   "execution_count": 2,
   "id": "bfaab849-c0e5-4a2f-9d61-5eb6faf7946e",
   "metadata": {},
   "outputs": [
    {
     "name": "stdout",
     "output_type": "stream",
     "text": [
      "Downloaded: images\\signlanguageabc.jpg\n",
      "Downloaded: images\\signlanguage1280x1024.jpg\n",
      "Downloaded: images\\signlanguageabc02.jpg\n",
      "Downloaded: images\\abc1280x960.png\n",
      "Downloaded: images\\sign%20language.gif\n",
      "Downloaded: images\\ily_asl_1024h.gif\n",
      "Downloaded: images\\abcdrawings.gif\n"
     ]
    }
   ],
   "source": [
    "import os\n",
    "import requests\n",
    "from bs4 import BeautifulSoup\n",
    "from urllib.parse import urljoin\n",
    "\n",
    "# Target URL\n",
    "url = \"https://www.lifeprint.com/asl101/topics/wallpaper1.htm\"\n",
    "\n",
    "# Directory to save images\n",
    "os.makedirs(\"images\", exist_ok=True)\n",
    "\n",
    "# Get HTML content\n",
    "response = requests.get(url)\n",
    "soup = BeautifulSoup(response.text, \"html.parser\")\n",
    "\n",
    "# Find all image tags\n",
    "img_tags = soup.find_all(\"img\")\n",
    "\n",
    "# Loop through and download each image\n",
    "for img in img_tags:\n",
    "    img_url = img.get(\"src\")\n",
    "    if not img_url:\n",
    "        continue\n",
    "\n",
    "    # Convert relative URLs to absolute\n",
    "    full_url = urljoin(url, img_url)\n",
    "\n",
    "    # Get the image content\n",
    "    img_data = requests.get(full_url).content\n",
    "\n",
    "    # Get a filename (last part of the URL)\n",
    "    filename = os.path.join(\"images\", os.path.basename(full_url))\n",
    "\n",
    "    # Save image to file\n",
    "    with open(filename, \"wb\") as f:\n",
    "        f.write(img_data)\n",
    "\n",
    "    print(f\"Downloaded: {filename}\")\n"
   ]
  },
  {
   "cell_type": "code",
   "execution_count": null,
   "id": "9a981c54-edd2-4bb8-b4fe-08c472fb897e",
   "metadata": {},
   "outputs": [],
   "source": []
  }
 ],
 "metadata": {
  "kernelspec": {
   "display_name": "Python 3 (ipykernel)",
   "language": "python",
   "name": "python3"
  },
  "language_info": {
   "codemirror_mode": {
    "name": "ipython",
    "version": 3
   },
   "file_extension": ".py",
   "mimetype": "text/x-python",
   "name": "python",
   "nbconvert_exporter": "python",
   "pygments_lexer": "ipython3",
   "version": "3.13.5"
  }
 },
 "nbformat": 4,
 "nbformat_minor": 5
}
