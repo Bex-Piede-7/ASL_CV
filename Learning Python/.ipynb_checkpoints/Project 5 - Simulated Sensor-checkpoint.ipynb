{
 "cells": [
  {
   "cell_type": "code",
   "execution_count": 4,
   "id": "941d7427-2843-496f-a442-e9fd45dcbb71",
   "metadata": {},
   "outputs": [],
   "source": [
    "                                         # Setup #\n",
    "import numpy as np\n",
    "np.random.seed(42)"
   ]
  },
  {
   "cell_type": "code",
   "execution_count": 6,
   "id": "fd94e09e-12bb-4593-b8b5-4a56aff7a9c8",
   "metadata": {},
   "outputs": [
    {
     "name": "stdout",
     "output_type": "stream",
     "text": [
      "[[27.48357077  7.16925852 87.73730719 74.07686178 69.7015741 ]\n",
      " [24.30867849  9.36072956 70.2484084  35.94911512 29.35918443]\n",
      " [28.23844269  9.71861137 80.93611555 81.01133947 86.70723186]\n",
      " [32.61514928  9.00150607 91.32405526 51.13423989 50.15162947]]\n"
     ]
    }
   ],
   "source": [
    "                                    # Simulate Sensor Data #\n",
    "image_size = (100, 5)\n",
    "sensor_data = np.zeros(image_size, dtype=np.float64)\n",
    "\n",
    "#Filling array\n",
    "sensor_data[:, 0] = np.random.normal(25, 5, 100)\n",
    "sensor_data[:, 1] = np.linspace(10, 30, 100) + np.random.normal(0, 2, 100)\n",
    "sensor_data[:, 2:] = np.random.uniform(low=0.0, high=100.0, size=(100,3))\n",
    "\n",
    "print(sensor_data[0:4, :])"
   ]
  },
  {
   "cell_type": "code",
   "execution_count": 8,
   "id": "7b0ac344-54f4-4046-8792-bea4efea8ce9",
   "metadata": {},
   "outputs": [],
   "source": [
    "                                    # Handling Outliers/Noise #\n",
    "# Simulate Outliers\n",
    "sensor_data[0, 0] = 500\n",
    "sensor_data[74, 1] = 500\n",
    "sensor_data[40, 2] = 500\n",
    "sensor_data[27, 3] = 500\n",
    "sensor_data[53, 4] = 500\n",
    "\n",
    "#Identify and Replace Outliers\n",
    "rows_over_100, cols_over_100 = np.where(sensor_data > 100)\n",
    "sensor_data[rows_over_100, cols_over_100] = np.NaN\n",
    "COPY_data = sensor_data.copy\n",
    "median = np.nanmedian(sensor_data, overwrite_input=True, keepdims=True,)\n",
    "\n"
   ]
  },
  {
   "cell_type": "code",
   "execution_count": 50,
   "id": "b23a595e-c8c4-4640-be67-3f5af917ad08",
   "metadata": {},
   "outputs": [],
   "source": [
    "                                    # Array Reshaping and Stacking #\n",
    "# 3D Array\n",
    "sensor_data_3D = sensor_data.reshape((10, 10, 5))\n",
    "#print(sensor_data_3D)\n",
    "\n",
    "#Split Array - A = cols 0, 1, & 2, B = cols 3 & 4\n",
    "sensor_A_data = sensor_data[:, 0:3]\n",
    "#print(sensor_A_data)\n",
    "sensor_B_data = sensor_data[:, 3:5]\n",
    "#print(sensor_B_data)\n",
    "\n",
    "# Stick A & B together horizontally\n",
    "sensor_AB_data = np.hstack((sensor_A_data, sensor_B_data))\n",
    "#print(sensor_AB_data)\n",
    "\n",
    "# Stick rows 0-19 and 20-39 together vertically\n",
    "sensor_AA_data = np.vstack((sensor_A_data[0:20, :], sensor_A_data[20:40]))\n",
    "#print(sensor_AA_data)"
   ]
  },
  {
   "cell_type": "code",
   "execution_count": 94,
   "id": "3583d244-3783-469c-912f-2e2ef67c324e",
   "metadata": {},
   "outputs": [],
   "source": [
    "                                # Advanced Statistical Computations #\n",
    "# Calculate the mean and standard deviation for each sensor\n",
    "sensor1_mean = sensor_data[:, 0].mean()\n",
    "sensor2_mean = sensor_data[:, 1].mean()\n",
    "sensor3_mean = sensor_data[:, 2:5].mean()\n",
    "\n",
    "sensor1_std = sensor_data[:, 0].std()\n",
    "sensor2_std = sensor_data[:, 1].std()\n",
    "sensor3_std = sensor_data[:, 2:5].std()\n",
    "\n",
    "# Find the max from sensor 1 and the min from sensor 3\n",
    "sensor1_max = sensor_data[:, 0].max()\n",
    "sensor3_max = sensor_data[:, 2:5].min()\n",
    "\n",
    "# Calculate the correlation matrix\n",
    "sensor_correlation = np.corrcoef(sensor_data)\n",
    "\n",
    "# Find the overall average of the sensor data\n",
    "sensor_data_mean = sensor_data.mean()"
   ]
  },
  {
   "cell_type": "code",
   "execution_count": 92,
   "id": "4e559aa6-e8d3-4d1f-a59d-d1ee5a9aa06f",
   "metadata": {},
   "outputs": [
    {
     "name": "stdout",
     "output_type": "stream",
     "text": [
      "[15.31110553  9.55114095 10.29681502 10.85640768 13.75409877 17.03721167\n",
      " 10.3297671   6.96628072 15.9946383  13.79765429]\n"
     ]
    }
   ],
   "source": [
    "                                    # Basic Linear Algebra #\n",
    "# Create a weight vector (weights for a weighted avg)\n",
    "weights = np.array([0.2, 0.3, 0.1, 0.25, 0.15])\n",
    "\n",
    "# Calculate the weighted average of sensor readings using a DOT PRODUCT\n",
    "weighted_avg = sensor_data @ weights\n",
    "print(weighted_avg[0:10])"
   ]
  },
  {
   "cell_type": "code",
   "execution_count": 122,
   "id": "996c284c-aa90-4d97-9cf2-49284efde87d",
   "metadata": {},
   "outputs": [
    {
     "name": "stdout",
     "output_type": "stream",
     "text": [
      "[[21.48973453  7.7734637  23.50496325]\n",
      " [ 8.18265959 23.89740153 22.49121478]\n",
      " [15.62246793 21.61539    20.99592672]\n",
      " [12.9592792  17.74395438  2.65113105]\n",
      " [27.62622452 26.78556286 26.62041985]\n",
      " [28.59971816 29.11272456 29.32107717]]\n"
     ]
    }
   ],
   "source": [
    "                            # Boolean Indexing and Fancy Indexing #\n",
    "# Display rows where the reading from Sensor 1 is greater than 30\n",
    "boolean_mask = sensor_data[:, 0] > 30\n",
    "sensor_data[boolean_mask]\n",
    "\n",
    "# Display rows 0, 10, 20, 30, 40, & 50 but only the columns 1, 3, & 4\n",
    "row_indices = [0, 10, 20, 30, 40, 50]\n",
    "col_indices = [1, 3, 4]\n",
    "\n",
    "special_indexing = np.ix_(row_indices, col_indices)\n",
    "\n",
    "print(sensor_data[special_indexing])"
   ]
  },
  {
   "cell_type": "code",
   "execution_count": null,
   "id": "67c48e63-c342-4f17-a4d6-b8ea24462fa4",
   "metadata": {},
   "outputs": [],
   "source": []
  }
 ],
 "metadata": {
  "kernelspec": {
   "display_name": "Python 3 (ipykernel)",
   "language": "python",
   "name": "python3"
  },
  "language_info": {
   "codemirror_mode": {
    "name": "ipython",
    "version": 3
   },
   "file_extension": ".py",
   "mimetype": "text/x-python",
   "name": "python",
   "nbconvert_exporter": "python",
   "pygments_lexer": "ipython3",
   "version": "3.12.4"
  }
 },
 "nbformat": 4,
 "nbformat_minor": 5
}
