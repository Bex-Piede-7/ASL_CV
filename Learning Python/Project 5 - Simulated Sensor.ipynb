{
 "cells": [
  {
   "cell_type": "code",
   "execution_count": 173,
   "id": "941d7427-2843-496f-a442-e9fd45dcbb71",
   "metadata": {},
   "outputs": [],
   "source": [
    "                                         # Setup #\n",
    "import numpy as np\n",
    "np.random.seed(42)"
   ]
  },
  {
   "cell_type": "code",
   "execution_count": 175,
   "id": "fd94e09e-12bb-4593-b8b5-4a56aff7a9c8",
   "metadata": {},
   "outputs": [
    {
     "name": "stdout",
     "output_type": "stream",
     "text": [
      "[[27.48357077  7.16925852 87.73730719 74.07686178 69.7015741 ]\n",
      " [24.30867849  9.36072956 70.2484084  35.94911512 29.35918443]\n",
      " [28.23844269  9.71861137 80.93611555 81.01133947 86.70723186]\n",
      " [32.61514928  9.00150607 91.32405526 51.13423989 50.15162947]]\n"
     ]
    }
   ],
   "source": [
    "                                    # Simulate Sensor Data #\n",
    "image_size = (100, 5)\n",
    "sensor_data = np.zeros(image_size, dtype=np.float64)\n",
    "\n",
    "#Filling array\n",
    "sensor_data[:, 0] = np.random.normal(25, 5, 100)\n",
    "sensor_data[:, 1] = np.linspace(10, 30, 100) + np.random.normal(0, 2, 100)\n",
    "sensor_data[:, 2:] = np.random.uniform(low=0.0, high=100.0, size=(100,3))\n",
    "\n",
    "print(sensor_data[0:4, :])"
   ]
  },
  {
   "cell_type": "code",
   "execution_count": 177,
   "id": "7b0ac344-54f4-4046-8792-bea4efea8ce9",
   "metadata": {},
   "outputs": [],
   "source": [
    "                                    # Handling Outliers/Noise #\n",
    "# Simulate Outliers\n",
    "sensor_data[0, 0] = 500\n",
    "sensor_data[74, 1] = 500\n",
    "sensor_data[40, 2] = 500\n",
    "sensor_data[27, 3] = 500\n",
    "sensor_data[53, 4] = 500\n",
    "\n",
    "#Identify and Replace Outliers\n",
    "rows_over_100, cols_over_100 = np.where(sensor_data > 100)\n",
    "sensor_data[rows_over_100, cols_over_100] = np.NaN\n",
    "COPY_data = sensor_data.copy\n",
    "median = np.nanmedian(sensor_data, overwrite_input=True, keepdims=True,)\n",
    "\n"
   ]
  },
  {
   "cell_type": "code",
   "execution_count": 179,
   "id": "b23a595e-c8c4-4640-be67-3f5af917ad08",
   "metadata": {},
   "outputs": [
    {
     "name": "stdout",
     "output_type": "stream",
     "text": [
      "[[28.32021262]]\n"
     ]
    }
   ],
   "source": []
  },
  {
   "cell_type": "code",
   "execution_count": null,
   "id": "b877422d-d5af-45ec-9890-f49899aa38d2",
   "metadata": {},
   "outputs": [],
   "source": []
  }
 ],
 "metadata": {
  "kernelspec": {
   "display_name": "Python 3 (ipykernel)",
   "language": "python",
   "name": "python3"
  },
  "language_info": {
   "codemirror_mode": {
    "name": "ipython",
    "version": 3
   },
   "file_extension": ".py",
   "mimetype": "text/x-python",
   "name": "python",
   "nbconvert_exporter": "python",
   "pygments_lexer": "ipython3",
   "version": "3.12.4"
  }
 },
 "nbformat": 4,
 "nbformat_minor": 5
}
