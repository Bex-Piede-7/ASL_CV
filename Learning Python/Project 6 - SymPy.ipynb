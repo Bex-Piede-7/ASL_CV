{
 "cells": [
  {
   "cell_type": "code",
   "execution_count": 124,
   "id": "e167b50b-a077-4675-aa03-222a6260a341",
   "metadata": {},
   "outputs": [],
   "source": [
    "                        # Import Necessary Functions #\n",
    "from sympy import symbols, Eq, solve, simplify, expand, diff, integrate, init_printing\n",
    "\n",
    "init_printing() # Reformats to math print, won't work with print statements"
   ]
  },
  {
   "cell_type": "code",
   "execution_count": 126,
   "id": "682519b9-7fad-4615-8c6b-8fc56035b8d4",
   "metadata": {},
   "outputs": [],
   "source": [
    "                        # Define Symbols #\n",
    "# Define a single variable\n",
    "x = symbols('x')\n",
    "\n",
    "# Define multiple variables\n",
    "y, z, w = symbols('y z w')"
   ]
  },
  {
   "cell_type": "code",
   "execution_count": 128,
   "id": "a6aa50d4-a675-4b39-b276-c259b0c636de",
   "metadata": {},
   "outputs": [
    {
     "name": "stdout",
     "output_type": "stream",
     "text": [
      "(x + 2*y)**2\n",
      "x**2 + 4*x*y + 4*y**2\n",
      "x**2 + 2*x + 1\n",
      "x**2 + 2*x + 1\n",
      "(x + 1)**2\n",
      "x**2 + 2*x*y + y**2\n",
      "(x + y)**2\n",
      "30\n",
      "5*y + (y + 1)**2 + 11\n"
     ]
    }
   ],
   "source": [
    "                        # Create and Manipulate Experssions #\n",
    "# Create an algebraic expression\n",
    "expr = (x + 2*y)**2\n",
    "print(expr)\n",
    "\n",
    "exp = expr.expand()\n",
    "print(exp)\n",
    "\n",
    "expr2 = x**2 + 2*x + 1\n",
    "print(expr2)\n",
    "\n",
    "simp = simplify(expr2) # The definition of simplify is all like terms combined, not factored\n",
    "print(simp)\n",
    "\n",
    "fact = expr2.factor()\n",
    "print(fact)\n",
    "\n",
    "expr3 = x**2 + 2*x*y + y**2\n",
    "print(expr3)\n",
    "\n",
    "simpfact = simplify(expr3).factor() #We can combine these as needed\n",
    "print(simpfact)\n",
    "\n",
    "# Substituting Values\n",
    "expr4 = x**2 +5*x + 6\n",
    "result_3 = expr4.subs(x, 3)\n",
    "print(result_3)\n",
    "\n",
    "result_y1 = expr4.subs(x, y + 1)\n",
    "print(result_y1)"
   ]
  },
  {
   "cell_type": "code",
   "execution_count": 130,
   "id": "410a4863-5be4-472f-8233-df65d6762828",
   "metadata": {},
   "outputs": [
    {
     "name": "stdout",
     "output_type": "stream",
     "text": [
      "[-2, 2]\n",
      "{x: 3, y: 2}\n"
     ]
    }
   ],
   "source": [
    "                        # Solving Equations #\n",
    "# Create an equation\n",
    "eq0 = Eq(x**2 - 4, 0)\n",
    "sol0 = solve(eq0, x)\n",
    "print(sol0)\n",
    "\n",
    "# Create a system of equations\n",
    "eq1 = Eq(x + y, 5)\n",
    "eq2 = Eq(2*x - y, 4)\n",
    "s12 = solve([eq1, eq2], (x, y))\n",
    "print(s12)"
   ]
  },
  {
   "cell_type": "code",
   "execution_count": 132,
   "id": "80fe6d84-bd69-4088-82ce-ec400ba592c5",
   "metadata": {},
   "outputs": [
    {
     "name": "stdout",
     "output_type": "stream",
     "text": [
      "x**3 + 2*x**2 - 5*x + 1\n",
      "3*x**2 + 4*x - 5\n",
      "x**2 + 2*y + 2\n",
      "2*x\n",
      "2\n",
      "x**4/4 + 2*x**3/3 - 5*x**2/2 + x\n",
      "x**3/3 + x*(2*y + 2)\n",
      "y**2 + y*(x**2 + 2)\n"
     ]
    }
   ],
   "source": [
    "                        # Basic Calculus #\n",
    "# Differentiation\n",
    "f = x**3 + 2*x**2 - 5*x + 1\n",
    "print(f)\n",
    "\n",
    "df = diff(f)\n",
    "print(df)\n",
    "\n",
    "g = x**2 + 2*y + 2\n",
    "print(g)\n",
    "\n",
    "dg_dx = diff(g, x)\n",
    "dg_dy = diff(g, y)\n",
    "print(dg_dx)\n",
    "print(dg_dy)\n",
    "\n",
    "# Integration\n",
    "F = integrate(f)\n",
    "print(F)\n",
    "\n",
    "Gx = integrate(g, x)\n",
    "Gy = integrate(g, y)\n",
    "print(Gx)\n",
    "print(Gy)"
   ]
  },
  {
   "cell_type": "code",
   "execution_count": 135,
   "id": "5a55dfea-5df8-4a30-b0a1-7f1454c462af",
   "metadata": {},
   "outputs": [
    {
     "data": {
      "image/png": "[encoded data removed]",
      "text/latex": [
       "$\\displaystyle x^{2} + 3 y + 5$"
      ],
      "text/plain": [
       " 2          \n",
       "x  + 3⋅y + 5"
      ]
     },
     "execution_count": 135,
     "metadata": {},
     "output_type": "execute_result"
    }
   ],
   "source": [
    "x**2 + 3*y + 5"
   ]
  },
  {
   "cell_type": "code",
   "execution_count": null,
   "id": "22ff486f-d474-4e58-a5ec-e9bbff4d6ca6",
   "metadata": {},
   "outputs": [],
   "source": []
  }
 ],
 "metadata": {
  "kernelspec": {
   "display_name": "Python 3 (ipykernel)",
   "language": "python",
   "name": "python3"
  },
  "language_info": {
   "codemirror_mode": {
    "name": "ipython",
    "version": 3
   },
   "file_extension": ".py",
   "mimetype": "text/x-python",
   "name": "python",
   "nbconvert_exporter": "python",
   "pygments_lexer": "ipython3",
   "version": "3.12.4"
  }
 },
 "nbformat": 4,
 "nbformat_minor": 5
}
