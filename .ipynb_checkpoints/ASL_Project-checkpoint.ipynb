{
 "cells": [
  {
   "cell_type": "code",
   "execution_count": null,
   "id": "fdb48a0f-7ba1-48d7-8785-0718cbfb5de3",
   "metadata": {},
   "outputs": [],
   "source": [
    "from PIL import Image\n",
    "\n",
    "def convert_to_grayscale(input_image_path, output_image_path):\n",
    "    \"\"\"\n",
    "    Converts an input image to grayscale and saves it to a specified output path.\n",
    "\n",
    "    Args:\n",
    "        input_image_path (str): The file path to the input image.\n",
    "        output_image_path (str): The file path where the grayscale image will be saved.\n",
    "    \"\"\"\n",
    "    try:\n",
    "        # Open the input image\n",
    "        original_image = Image.open(input_image_path)\n",
    "        print(f\"Successfully opened image: {input_image_path}\")\n",
    "\n",
    "        # Convert the image to grayscale\n",
    "        # 'L' mode stands for Luminance, which represents grayscale images.\n",
    "        grayscale_image = original_image.convert('L')\n",
    "        print(\"Image converted to grayscale.\")\n",
    "\n",
    "        # Save the grayscale image\n",
    "        grayscale_image.save(output_image_path)\n",
    "        print(f\"Grayscale image saved to: {output_image_path}\")\n",
    "\n",
    "    except FileNotFoundError:\n",
    "        print(f\"Error: The file '{input_image_path}' was not found.\")\n",
    "    except Exception as e:\n",
    "        print(f\"An error occurred: {e}\")\n",
    "\n",
    "if __name__ == \"__main__\":\n",
    "    # Example Usage:\n",
    "    input_file = r'\\Users\\rbecc\\OneDrive\\Pictures\\Sly Cooper.png' # <--- Change this to your image file path\n",
    "    output_file = 'SlyCooperGrey.png' # <--- Name for the grayscale output\n",
    "\n",
    "    convert_to_grayscale(input_file, output_file)\n"
   ]
  }
 ],
 "metadata": {
  "kernelspec": {
   "display_name": "Python 3 (ipykernel)",
   "language": "python",
   "name": "python3"
  },
  "language_info": {
   "codemirror_mode": {
    "name": "ipython",
    "version": 3
   },
   "file_extension": ".py",
   "mimetype": "text/x-python",
   "name": "python",
   "nbconvert_exporter": "python",
   "pygments_lexer": "ipython3",
   "version": "3.12.4"
  }
 },
 "nbformat": 4,
 "nbformat_minor": 5
}
