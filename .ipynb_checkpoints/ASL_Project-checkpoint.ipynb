{
 "cells": [
  {
   "cell_type": "code",
   "execution_count": 27,
   "id": "6bde2755-4ea0-4223-910d-aea393fa915e",
   "metadata": {},
   "outputs": [
    {
     "name": "stdout",
     "output_type": "stream",
     "text": [
      "Successfully opened image: \\Users\\rbecc\\OneDrive\\Pictures\\Sly Cooper.png\n",
      "Image converted to grayscale.\n",
      "Grayscale image saved to: SlyCooperGrey.png\n"
     ]
    }
   ],
   "source": [
    "from PIL import Image\n",
    "\n",
    "def convert_to_grayscale(input_image_path, output_image_path):\n",
    "    \"\"\"\n",
    "    Converts an input image to grayscale and saves it to a specified output path.\n",
    "\n",
    "    Args:\n",
    "        input_image_path (str): The file path to the input image.\n",
    "        output_image_path (str): The file path where the grayscale image will be saved.\n",
    "    \"\"\"\n",
    "    try:\n",
    "        # Open the input image\n",
    "        original_image = Image.open(input_image_path)\n",
    "        print(f\"Successfully opened image: {input_image_path}\")\n",
    "\n",
    "        # Convert the image to grayscale\n",
    "        # 'L' mode stands for Luminance, which represents grayscale images.\n",
    "        grayscale_image = original_image.convert('L')\n",
    "        print(\"Image converted to grayscale.\")\n",
    "\n",
    "        # Save the grayscale image\n",
    "        grayscale_image.save(output_image_path)\n",
    "        print(f\"Grayscale image saved to: {output_image_path}\")\n",
    "\n",
    "    except FileNotFoundError:\n",
    "        print(f\"Error: The file '{input_image_path}' was not found.\")\n",
    "    except Exception as e:\n",
    "        print(f\"An error occurred: {e}\")\n",
    "\n",
    "if __name__ == \"__main__\":\n",
    "    # Example Usage:\n",
    "    input_file = r'\\Users\\rbecc\\OneDrive\\Pictures\\Sly Cooper.png' # <--- Change this to your image file path\n",
    "    output_file = 'SlyCooperGrey.png' # <--- Name for the grayscale output\n",
    "\n",
    "    convert_to_grayscale(input_file, output_file)\n"
   ]
  },
  {
   "cell_type": "code",
   "execution_count": null,
   "id": "af017f62-3146-4790-bc92-3e9972f3976c",
   "metadata": {},
   "outputs": [],
   "source": []
  }
 ],
 "metadata": {
  "kernelspec": {
   "display_name": "Python 3 (ipykernel)",
   "language": "python",
   "name": "python3"
  },
  "language_info": {
   "codemirror_mode": {
    "name": "ipython",
    "version": 3
   },
   "file_extension": ".py",
   "mimetype": "text/x-python",
   "name": "python",
   "nbconvert_exporter": "python",
   "pygments_lexer": "ipython3",
   "version": "3.12.4"
  }
 },
 "nbformat": 4,
 "nbformat_minor": 5
}
