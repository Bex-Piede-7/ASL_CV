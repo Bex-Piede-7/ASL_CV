{
 "cells": [
  {
   "cell_type": "code",
   "execution_count": 1,
   "id": "2a46d1e2-8dd9-4016-a724-60f0ed240f0e",
   "metadata": {},
   "outputs": [
    {
     "name": "stdout",
     "output_type": "stream",
     "text": [
      "hello ASL again\n"
     ]
    }
   ],
   "source": [
    "print (\"hello ASL again\")"
   ]
  },
  {
   "cell_type": "code",
   "execution_count": null,
   "id": "6bde2755-4ea0-4223-910d-aea393fa915e",
   "metadata": {},
   "outputs": [],
   "source": []
  }
 ],
 "metadata": {
  "kernelspec": {
   "display_name": "Python 3 (ipykernel)",
   "language": "python",
   "name": "python3"
  },
  "language_info": {
   "codemirror_mode": {
    "name": "ipython",
    "version": 3
   },
   "file_extension": ".py",
   "mimetype": "text/x-python",
   "name": "python",
   "nbconvert_exporter": "python",
   "pygments_lexer": "ipython3",
   "version": "3.12.4"
  }
 },
 "nbformat": 4,
 "nbformat_minor": 5
}
