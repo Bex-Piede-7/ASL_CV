{
 "cells": [
  {
   "cell_type": "code",
   "execution_count": 46,
   "id": "8639b8e4",
   "metadata": {},
   "outputs": [
    {
     "name": "stdout",
     "output_type": "stream",
     "text": [
      "Imports Complete\n"
     ]
    }
   ],
   "source": [
    "import cv2\n",
    "import numpy as np\n",
    "import os\n",
    "from sklearn.model_selection import train_test_split\n",
    "from sklearn.preprocessing import LabelEncoder\n",
    "from sklearn.metrics import classification_report\n",
    "from tensorflow.keras.models import Sequential\n",
    "from tensorflow.keras.layers import Conv2D, MaxPooling2D, Flatten, Dense, Dropout\n",
    "from tensorflow.keras.utils import to_categorical\n",
    "import tensorflow as tf\n",
    "import matplotlib.pyplot as plt\n",
    "import time\n",
    "\n",
    "print(\"Imports Complete\")"
   ]
  },
  {
   "cell_type": "code",
   "execution_count": 48,
   "id": "5694c0db",
   "metadata": {},
   "outputs": [
    {
     "name": "stdout",
     "output_type": "stream",
     "text": [
      "Loading images...\n"
     ]
    }
   ],
   "source": [
    "# Path to dataset: structured as \"dataset/A/A1.jpg\", \"dataset/B/B2.jpg\", etc.\n",
    "DATASET_PATH = r\"C:\\Users\\rbecc\\OneDrive\\Documents\\GitHub\\asl_dataset\\asl_dataset\"  #Replace with your dataset path\n",
    "IMAGE_SIZE = (100, 100)\n",
    "\n",
    "def load_images_and_labels(dataset_path):\n",
    "    X = []\n",
    "    y = []\n",
    "    for label in sorted(os.listdir(dataset_path)):\n",
    "        label_path = os.path.join(dataset_path, label)\n",
    "        if not os.path.isdir(label_path):\n",
    "            continue\n",
    "        for img_name in os.listdir(label_path):\n",
    "            img_path = os.path.join(label_path, img_name)\n",
    "            img = cv2.imread(img_path, cv2.IMREAD_GRAYSCALE)\n",
    "            if img is None:\n",
    "                continue\n",
    "            img = cv2.resize(img, IMAGE_SIZE)\n",
    "            X.append(img)\n",
    "            y.append(label)\n",
    "    return np.array(X), np.array(y)"
   ]
  },
  {
   "cell_type": "code",
   "execution_count": 74,
   "id": "a45e4433-a02e-4206-9639-813320846a76",
   "metadata": {},
   "outputs": [
    {
     "name": "stdout",
     "output_type": "stream",
     "text": [
      "Label distribution: Counter({np.str_('a'): 70, np.str_('b'): 70, np.str_('c'): 70, np.str_('d'): 70, np.str_('e'): 70, np.str_('f'): 70, np.str_('g'): 70, np.str_('h'): 70, np.str_('i'): 70, np.str_('j'): 70, np.str_('k'): 70, np.str_('l'): 70, np.str_('m'): 70, np.str_('n'): 70, np.str_('o'): 70, np.str_('p'): 70, np.str_('q'): 70, np.str_('r'): 70, np.str_('s'): 70, np.str_('u'): 70, np.str_('v'): 70, np.str_('w'): 70, np.str_('x'): 70, np.str_('y'): 70, np.str_('z'): 70, np.str_('t'): 65})\n",
      "y_encoded shape: (1815,)\n",
      "y_categorical shape: (1815, 26)\n",
      "X shape: (1815, 100, 100, 1)\n",
      "First label: a\n",
      "Encoded labels: [0 0 0 0 0]\n",
      "Training classifier...\n",
      "Epoch 1/20\n"
     ]
    },
    {
     "name": "stderr",
     "output_type": "stream",
     "text": [
      "C:\\Users\\rbecc\\anaconda3\\envs\\tf-env\\lib\\site-packages\\keras\\src\\layers\\convolutional\\base_conv.py:113: UserWarning: Do not pass an `input_shape`/`input_dim` argument to a layer. When using Sequential models, prefer using an `Input(shape)` object as the first layer in the model instead.\n",
      "  super().__init__(activity_regularizer=activity_regularizer, **kwargs)\n"
     ]
    },
    {
     "name": "stdout",
     "output_type": "stream",
     "text": [
      "\u001b[1m46/46\u001b[0m \u001b[32m━━━━━━━━━━━━━━━━━━━━\u001b[0m\u001b[37m\u001b[0m \u001b[1m9s\u001b[0m 164ms/step - accuracy: 0.2606 - loss: 2.5322\n",
      "Epoch 2/20\n",
      "\u001b[1m46/46\u001b[0m \u001b[32m━━━━━━━━━━━━━━━━━━━━\u001b[0m\u001b[37m\u001b[0m \u001b[1m7s\u001b[0m 158ms/step - accuracy: 0.8222 - loss: 0.5611\n",
      "Epoch 3/20\n",
      "\u001b[1m46/46\u001b[0m \u001b[32m━━━━━━━━━━━━━━━━━━━━\u001b[0m\u001b[37m\u001b[0m \u001b[1m7s\u001b[0m 161ms/step - accuracy: 0.9272 - loss: 0.2248\n",
      "Epoch 4/20\n",
      "\u001b[1m46/46\u001b[0m \u001b[32m━━━━━━━━━━━━━━━━━━━━\u001b[0m\u001b[37m\u001b[0m \u001b[1m7s\u001b[0m 160ms/step - accuracy: 0.9644 - loss: 0.1304\n",
      "Epoch 5/20\n",
      "\u001b[1m46/46\u001b[0m \u001b[32m━━━━━━━━━━━━━━━━━━━━\u001b[0m\u001b[37m\u001b[0m \u001b[1m7s\u001b[0m 161ms/step - accuracy: 0.9606 - loss: 0.1199\n",
      "Epoch 6/20\n",
      "\u001b[1m46/46\u001b[0m \u001b[32m━━━━━━━━━━━━━━━━━━━━\u001b[0m\u001b[37m\u001b[0m \u001b[1m8s\u001b[0m 164ms/step - accuracy: 0.9785 - loss: 0.0646\n",
      "Epoch 7/20\n",
      "\u001b[1m46/46\u001b[0m \u001b[32m━━━━━━━━━━━━━━━━━━━━\u001b[0m\u001b[37m\u001b[0m \u001b[1m8s\u001b[0m 170ms/step - accuracy: 0.9838 - loss: 0.0574\n",
      "Epoch 8/20\n",
      "\u001b[1m46/46\u001b[0m \u001b[32m━━━━━━━━━━━━━━━━━━━━\u001b[0m\u001b[37m\u001b[0m \u001b[1m7s\u001b[0m 163ms/step - accuracy: 0.9744 - loss: 0.0667\n",
      "Epoch 9/20\n",
      "\u001b[1m46/46\u001b[0m \u001b[32m━━━━━━━━━━━━━━━━━━━━\u001b[0m\u001b[37m\u001b[0m \u001b[1m8s\u001b[0m 176ms/step - accuracy: 0.9839 - loss: 0.0440\n",
      "Epoch 10/20\n",
      "\u001b[1m46/46\u001b[0m \u001b[32m━━━━━━━━━━━━━━━━━━━━\u001b[0m\u001b[37m\u001b[0m \u001b[1m7s\u001b[0m 161ms/step - accuracy: 0.9756 - loss: 0.0548\n",
      "Epoch 11/20\n",
      "\u001b[1m46/46\u001b[0m \u001b[32m━━━━━━━━━━━━━━━━━━━━\u001b[0m\u001b[37m\u001b[0m \u001b[1m7s\u001b[0m 161ms/step - accuracy: 0.9845 - loss: 0.0449\n",
      "Epoch 12/20\n",
      "\u001b[1m46/46\u001b[0m \u001b[32m━━━━━━━━━━━━━━━━━━━━\u001b[0m\u001b[37m\u001b[0m \u001b[1m7s\u001b[0m 161ms/step - accuracy: 0.9851 - loss: 0.0408\n",
      "Epoch 13/20\n",
      "\u001b[1m46/46\u001b[0m \u001b[32m━━━━━━━━━━━━━━━━━━━━\u001b[0m\u001b[37m\u001b[0m \u001b[1m7s\u001b[0m 160ms/step - accuracy: 0.9826 - loss: 0.0451\n",
      "Epoch 14/20\n",
      "\u001b[1m46/46\u001b[0m \u001b[32m━━━━━━━━━━━━━━━━━━━━\u001b[0m\u001b[37m\u001b[0m \u001b[1m7s\u001b[0m 161ms/step - accuracy: 0.9914 - loss: 0.0307\n",
      "Epoch 15/20\n",
      "\u001b[1m46/46\u001b[0m \u001b[32m━━━━━━━━━━━━━━━━━━━━\u001b[0m\u001b[37m\u001b[0m \u001b[1m7s\u001b[0m 162ms/step - accuracy: 0.9841 - loss: 0.0462\n",
      "Epoch 16/20\n",
      "\u001b[1m46/46\u001b[0m \u001b[32m━━━━━━━━━━━━━━━━━━━━\u001b[0m\u001b[37m\u001b[0m \u001b[1m7s\u001b[0m 163ms/step - accuracy: 0.9897 - loss: 0.0382\n",
      "Epoch 17/20\n",
      "\u001b[1m46/46\u001b[0m \u001b[32m━━━━━━━━━━━━━━━━━━━━\u001b[0m\u001b[37m\u001b[0m \u001b[1m7s\u001b[0m 160ms/step - accuracy: 0.9944 - loss: 0.0192\n",
      "Epoch 18/20\n",
      "\u001b[1m46/46\u001b[0m \u001b[32m━━━━━━━━━━━━━━━━━━━━\u001b[0m\u001b[37m\u001b[0m \u001b[1m7s\u001b[0m 161ms/step - accuracy: 0.9891 - loss: 0.0296\n",
      "Epoch 19/20\n",
      "\u001b[1m46/46\u001b[0m \u001b[32m━━━━━━━━━━━━━━━━━━━━\u001b[0m\u001b[37m\u001b[0m \u001b[1m7s\u001b[0m 160ms/step - accuracy: 0.9928 - loss: 0.0182\n",
      "Epoch 20/20\n",
      "\u001b[1m46/46\u001b[0m \u001b[32m━━━━━━━━━━━━━━━━━━━━\u001b[0m\u001b[37m\u001b[0m \u001b[1m8s\u001b[0m 163ms/step - accuracy: 0.9966 - loss: 0.0149\n",
      "Training completed in 151.6561 seconds.\n",
      "Evaluating...\n",
      "\u001b[1m12/12\u001b[0m \u001b[32m━━━━━━━━━━━━━━━━━━━━\u001b[0m\u001b[37m\u001b[0m \u001b[1m1s\u001b[0m 46ms/step\n",
      "Evaluation completed in 0.6768 seconds.\n",
      "              precision    recall  f1-score   support\n",
      "\n",
      "           0       1.00      1.00      1.00        14\n",
      "           1       1.00      1.00      1.00        14\n",
      "           2       1.00      1.00      1.00        14\n",
      "           3       1.00      1.00      1.00        14\n",
      "           4       0.93      1.00      0.97        14\n",
      "           5       1.00      1.00      1.00        14\n",
      "           6       1.00      1.00      1.00        14\n",
      "           7       1.00      1.00      1.00        14\n",
      "           8       1.00      1.00      1.00        14\n",
      "           9       1.00      1.00      1.00        14\n",
      "          10       1.00      1.00      1.00        14\n",
      "          11       1.00      1.00      1.00        14\n",
      "          12       1.00      1.00      1.00        14\n",
      "          13       1.00      1.00      1.00        14\n",
      "          14       1.00      1.00      1.00        14\n",
      "          15       1.00      1.00      1.00        14\n",
      "          16       1.00      1.00      1.00        14\n",
      "          17       1.00      1.00      1.00        14\n",
      "          18       1.00      0.93      0.96        14\n",
      "          19       1.00      1.00      1.00        13\n",
      "          20       1.00      1.00      1.00        14\n",
      "          21       1.00      1.00      1.00        14\n",
      "          22       1.00      1.00      1.00        14\n",
      "          23       1.00      1.00      1.00        14\n",
      "          24       1.00      1.00      1.00        14\n",
      "          25       1.00      1.00      1.00        14\n",
      "\n",
      "    accuracy                           1.00       363\n",
      "   macro avg       1.00      1.00      1.00       363\n",
      "weighted avg       1.00      1.00      1.00       363\n",
      "\n"
     ]
    }
   ],
   "source": [
    "#Reload Data\n",
    "X, y = load_images_and_labels(DATASET_PATH)\n",
    "\n",
    "# Example: reshape and normalize data (assuming 28x28 grayscale images)\n",
    "# Update these shapes according to your actual data\n",
    "X = X.reshape(-1, 100, 100, 1).astype(\"float32\")/255.0  # Normalize and reshape\n",
    "\n",
    "from collections import Counter\n",
    "\n",
    "print(\"Label distribution:\", Counter(y))\n",
    "\n",
    "# Encode labels \n",
    "le = LabelEncoder()\n",
    "y_encoded = le.fit_transform(y)\n",
    "y_categorical = to_categorical(y_encoded)\n",
    "\n",
    "print(\"y_encoded shape:\", y_encoded.shape)\n",
    "print(\"y_categorical shape:\", y_categorical.shape)\n",
    "\n",
    "print(\"X shape:\", X.shape)\n",
    "print(\"First label:\", y[0])\n",
    "print(\"Encoded labels:\", y_encoded[:5])\n",
    "\n",
    "# Split into train and test\n",
    "X_train, X_test, y_train, y_test = train_test_split(X, y_categorical, test_size=0.2, shuffle=True, stratify=y_encoded)\n",
    "\n",
    "# Define CNN model\n",
    "model = Sequential([\n",
    "    Conv2D(32, (3, 3), activation='relu', input_shape=(100, 100, 1)),\n",
    "    MaxPooling2D((2, 2)),\n",
    "    Conv2D(64, (3, 3), activation='relu'),\n",
    "    MaxPooling2D((2, 2)),\n",
    "    Conv2D(128, (3, 3), activation='relu'),\n",
    "    MaxPooling2D((2, 2)),\n",
    "    Flatten(),\n",
    "    Dense(256, activation='relu'),\n",
    "    Dropout(0.5),\n",
    "    Dense(y_categorical.shape[1], activation='softmax')\n",
    "])\n",
    "\n",
    "model.compile(optimizer='adam', loss='categorical_crossentropy', metrics=['accuracy'])\n",
    "\n",
    "# Train CNN with timing\n",
    "print(\"Training classifier...\")\n",
    "start_train = time.time()\n",
    "model.fit(X_train, y_train, epochs=20, batch_size=32, verbose=1)\n",
    "end_train = time.time()\n",
    "print(f\"Training completed in {end_train - start_train:.4f} seconds.\")\n",
    "\n",
    "# Evaluate CNN with timing\n",
    "print(\"Evaluating...\")\n",
    "start_eval = time.time()\n",
    "y_pred_probs = model.predict(X_test)\n",
    "y_pred = np.argmax(y_pred_probs, axis=1)\n",
    "y_true = np.argmax(y_test, axis=1)\n",
    "end_eval = time.time()\n",
    "print(f\"Evaluation completed in {end_eval - start_eval:.4f} seconds.\")\n",
    "print(classification_report(y_true, y_pred))"
   ]
  },
  {
   "cell_type": "code",
   "execution_count": 76,
   "id": "9cd55d4a-ed7a-4117-9306-bfe9419cdc20",
   "metadata": {},
   "outputs": [
    {
     "name": "stdout",
     "output_type": "stream",
     "text": [
      "\u001b[1m12/12\u001b[0m \u001b[32m━━━━━━━━━━━━━━━━━━━━\u001b[0m\u001b[37m\u001b[0m \u001b[1m1s\u001b[0m 40ms/step - accuracy: 0.9959 - loss: 0.0142\n",
      "Test Accuracy: 0.9972\n",
      "Test Loss: 0.0104\n"
     ]
    }
   ],
   "source": [
    "test_loss, test_accuracy = model.evaluate(X_test,y_test, verbose = 1)\n",
    "print(f\"Test Accuracy: {test_accuracy:.4f}\")\n",
    "print(f\"Test Loss: {test_loss:.4f}\")"
   ]
  },
  {
   "cell_type": "code",
   "execution_count": null,
   "id": "550b00b1-9f48-407c-9f9a-c432e8d37ee1",
   "metadata": {},
   "outputs": [],
   "source": []
  },
  {
   "cell_type": "raw",
   "id": "4462319a-9e55-44a0-bfe6-aecd229ba094",
   "metadata": {},
   "source": []
  }
 ],
 "metadata": {
  "kernelspec": {
   "display_name": "Python (tf-env)",
   "language": "python",
   "name": "tf-env"
  },
  "language_info": {
   "codemirror_mode": {
    "name": "ipython",
    "version": 3
   },
   "file_extension": ".py",
   "mimetype": "text/x-python",
   "name": "python",
   "nbconvert_exporter": "python",
   "pygments_lexer": "ipython3",
   "version": "3.9.23"
  }
 },
 "nbformat": 4,
 "nbformat_minor": 5
}
